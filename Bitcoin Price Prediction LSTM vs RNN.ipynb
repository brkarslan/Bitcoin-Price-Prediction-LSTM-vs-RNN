{
 "cells": [
  {
   "cell_type": "code",
   "execution_count": 1,
   "id": "67fc5548",
   "metadata": {
    "_cell_guid": "b1076dfc-b9ad-4769-8c92-a6c4dae69d19",
    "_uuid": "8f2839f25d086af736a60e9eeb907d3b93b6e0e5",
    "execution": {
     "iopub.execute_input": "2021-11-18T16:30:54.052535Z",
     "iopub.status.busy": "2021-11-18T16:30:54.051378Z",
     "iopub.status.idle": "2021-11-18T16:30:54.072523Z",
     "shell.execute_reply": "2021-11-18T16:30:54.073320Z",
     "shell.execute_reply.started": "2021-11-18T16:24:43.350507Z"
    },
    "papermill": {
     "duration": 0.066945,
     "end_time": "2021-11-18T16:30:54.073674",
     "exception": false,
     "start_time": "2021-11-18T16:30:54.006729",
     "status": "completed"
    },
    "tags": []
   },
   "outputs": [
    {
     "name": "stdout",
     "output_type": "stream",
     "text": [
      "/kaggle/input/bitcoin-historical-data/bitstampUSD_1-min_data_2012-01-01_to_2021-03-31.csv\n"
     ]
    }
   ],
   "source": [
    "# This Python 3 environment comes with many helpful analytics libraries installed\n",
    "# It is defined by the kaggle/python Docker image: https://github.com/kaggle/docker-python\n",
    "# For example, here's several helpful packages to load\n",
    "\n",
    "import numpy as np # linear algebra\n",
    "import pandas as pd # data processing, CSV file I/O (e.g. pd.read_csv)\n",
    "\n",
    "# Input data files are available in the read-only \"../input/\" directory\n",
    "# For example, running this (by clicking run or pressing Shift+Enter) will list all files under the input directory\n",
    "\n",
    "import os\n",
    "for dirname, _, filenames in os.walk('/kaggle/input'):\n",
    "    for filename in filenames:\n",
    "        print(os.path.join(dirname, filename))\n",
    "\n",
    "# You can write up to 20GB to the current directory (/kaggle/working/) that gets preserved as output when you create a version using \"Save & Run All\" \n",
    "# You can also write temporary files to /kaggle/temp/, but they won't be saved outside of the current session"
   ]
  },
  {
   "cell_type": "code",
   "execution_count": 2,
   "id": "74eb075e",
   "metadata": {
    "execution": {
     "iopub.execute_input": "2021-11-18T16:30:54.161621Z",
     "iopub.status.busy": "2021-11-18T16:30:54.160968Z",
     "iopub.status.idle": "2021-11-18T16:31:00.165108Z",
     "shell.execute_reply": "2021-11-18T16:31:00.165661Z",
     "shell.execute_reply.started": "2021-11-18T16:24:43.364712Z"
    },
    "papermill": {
     "duration": 6.048926,
     "end_time": "2021-11-18T16:31:00.165921",
     "exception": false,
     "start_time": "2021-11-18T16:30:54.116995",
     "status": "completed"
    },
    "tags": []
   },
   "outputs": [],
   "source": [
    "import numpy as np\n",
    "import matplotlib.pyplot as plt\n",
    "import pandas as pd\n",
    "import warnings\n",
    "\n",
    "import math\n",
    "from keras.models import Sequential\n",
    "from keras.layers import Dense\n",
    "from keras.layers import LSTM\n",
    "from sklearn.preprocessing import MinMaxScaler\n",
    "from sklearn.metrics import mean_squared_error\n",
    "\n",
    "pd.set_option('display.float_format', lambda x: '%.2f' % x)\n",
    "warnings.filterwarnings(\"ignore\")\n"
   ]
  },
  {
   "cell_type": "code",
   "execution_count": 3,
   "id": "07557f21",
   "metadata": {
    "execution": {
     "iopub.execute_input": "2021-11-18T16:31:00.253339Z",
     "iopub.status.busy": "2021-11-18T16:31:00.252686Z",
     "iopub.status.idle": "2021-11-18T16:31:07.831452Z",
     "shell.execute_reply": "2021-11-18T16:31:07.831947Z",
     "shell.execute_reply.started": "2021-11-18T16:24:43.381434Z"
    },
    "papermill": {
     "duration": 7.625329,
     "end_time": "2021-11-18T16:31:07.832135",
     "exception": false,
     "start_time": "2021-11-18T16:31:00.206806",
     "status": "completed"
    },
    "tags": []
   },
   "outputs": [],
   "source": [
    "data = pd.read_csv(\"../input/bitcoin-historical-data/bitstampUSD_1-min_data_2012-01-01_to_2021-03-31.csv\")"
   ]
  },
  {
   "cell_type": "code",
   "execution_count": 4,
   "id": "5ae8c61b",
   "metadata": {
    "execution": {
     "iopub.execute_input": "2021-11-18T16:31:07.918162Z",
     "iopub.status.busy": "2021-11-18T16:31:07.917527Z",
     "iopub.status.idle": "2021-11-18T16:31:07.938407Z",
     "shell.execute_reply": "2021-11-18T16:31:07.938911Z",
     "shell.execute_reply.started": "2021-11-18T16:24:47.384220Z"
    },
    "papermill": {
     "duration": 0.065503,
     "end_time": "2021-11-18T16:31:07.939090",
     "exception": false,
     "start_time": "2021-11-18T16:31:07.873587",
     "status": "completed"
    },
    "tags": []
   },
   "outputs": [
    {
     "data": {
      "text/html": [
       "<div>\n",
       "<style scoped>\n",
       "    .dataframe tbody tr th:only-of-type {\n",
       "        vertical-align: middle;\n",
       "    }\n",
       "\n",
       "    .dataframe tbody tr th {\n",
       "        vertical-align: top;\n",
       "    }\n",
       "\n",
       "    .dataframe thead th {\n",
       "        text-align: right;\n",
       "    }\n",
       "</style>\n",
       "<table border=\"1\" class=\"dataframe\">\n",
       "  <thead>\n",
       "    <tr style=\"text-align: right;\">\n",
       "      <th></th>\n",
       "      <th>Timestamp</th>\n",
       "      <th>Open</th>\n",
       "      <th>High</th>\n",
       "      <th>Low</th>\n",
       "      <th>Close</th>\n",
       "      <th>Volume_(BTC)</th>\n",
       "      <th>Volume_(Currency)</th>\n",
       "      <th>Weighted_Price</th>\n",
       "    </tr>\n",
       "  </thead>\n",
       "  <tbody>\n",
       "    <tr>\n",
       "      <th>0</th>\n",
       "      <td>1325317920</td>\n",
       "      <td>4.39</td>\n",
       "      <td>4.39</td>\n",
       "      <td>4.39</td>\n",
       "      <td>4.39</td>\n",
       "      <td>0.46</td>\n",
       "      <td>2.00</td>\n",
       "      <td>4.39</td>\n",
       "    </tr>\n",
       "    <tr>\n",
       "      <th>1</th>\n",
       "      <td>1325317980</td>\n",
       "      <td>NaN</td>\n",
       "      <td>NaN</td>\n",
       "      <td>NaN</td>\n",
       "      <td>NaN</td>\n",
       "      <td>NaN</td>\n",
       "      <td>NaN</td>\n",
       "      <td>NaN</td>\n",
       "    </tr>\n",
       "    <tr>\n",
       "      <th>2</th>\n",
       "      <td>1325318040</td>\n",
       "      <td>NaN</td>\n",
       "      <td>NaN</td>\n",
       "      <td>NaN</td>\n",
       "      <td>NaN</td>\n",
       "      <td>NaN</td>\n",
       "      <td>NaN</td>\n",
       "      <td>NaN</td>\n",
       "    </tr>\n",
       "    <tr>\n",
       "      <th>3</th>\n",
       "      <td>1325318100</td>\n",
       "      <td>NaN</td>\n",
       "      <td>NaN</td>\n",
       "      <td>NaN</td>\n",
       "      <td>NaN</td>\n",
       "      <td>NaN</td>\n",
       "      <td>NaN</td>\n",
       "      <td>NaN</td>\n",
       "    </tr>\n",
       "    <tr>\n",
       "      <th>4</th>\n",
       "      <td>1325318160</td>\n",
       "      <td>NaN</td>\n",
       "      <td>NaN</td>\n",
       "      <td>NaN</td>\n",
       "      <td>NaN</td>\n",
       "      <td>NaN</td>\n",
       "      <td>NaN</td>\n",
       "      <td>NaN</td>\n",
       "    </tr>\n",
       "  </tbody>\n",
       "</table>\n",
       "</div>"
      ],
      "text/plain": [
       "    Timestamp  Open  High  Low  Close  Volume_(BTC)  Volume_(Currency)  \\\n",
       "0  1325317920  4.39  4.39 4.39   4.39          0.46               2.00   \n",
       "1  1325317980   NaN   NaN  NaN    NaN           NaN                NaN   \n",
       "2  1325318040   NaN   NaN  NaN    NaN           NaN                NaN   \n",
       "3  1325318100   NaN   NaN  NaN    NaN           NaN                NaN   \n",
       "4  1325318160   NaN   NaN  NaN    NaN           NaN                NaN   \n",
       "\n",
       "   Weighted_Price  \n",
       "0            4.39  \n",
       "1             NaN  \n",
       "2             NaN  \n",
       "3             NaN  \n",
       "4             NaN  "
      ]
     },
     "execution_count": 4,
     "metadata": {},
     "output_type": "execute_result"
    }
   ],
   "source": [
    "data.head()"
   ]
  },
  {
   "cell_type": "code",
   "execution_count": 5,
   "id": "a35bb3be",
   "metadata": {
    "execution": {
     "iopub.execute_input": "2021-11-18T16:31:08.025257Z",
     "iopub.status.busy": "2021-11-18T16:31:08.024613Z",
     "iopub.status.idle": "2021-11-18T16:31:08.029338Z",
     "shell.execute_reply": "2021-11-18T16:31:08.029856Z",
     "shell.execute_reply.started": "2021-11-18T16:24:47.400996Z"
    },
    "papermill": {
     "duration": 0.049506,
     "end_time": "2021-11-18T16:31:08.030015",
     "exception": false,
     "start_time": "2021-11-18T16:31:07.980509",
     "status": "completed"
    },
    "tags": []
   },
   "outputs": [
    {
     "data": {
      "text/plain": [
       "(4857377, 8)"
      ]
     },
     "execution_count": 5,
     "metadata": {},
     "output_type": "execute_result"
    }
   ],
   "source": [
    "data.shape"
   ]
  },
  {
   "cell_type": "code",
   "execution_count": 6,
   "id": "d88a4651",
   "metadata": {
    "execution": {
     "iopub.execute_input": "2021-11-18T16:31:08.117715Z",
     "iopub.status.busy": "2021-11-18T16:31:08.117100Z",
     "iopub.status.idle": "2021-11-18T16:31:08.203618Z",
     "shell.execute_reply": "2021-11-18T16:31:08.203109Z",
     "shell.execute_reply.started": "2021-11-18T16:24:47.419378Z"
    },
    "papermill": {
     "duration": 0.131724,
     "end_time": "2021-11-18T16:31:08.203783",
     "exception": false,
     "start_time": "2021-11-18T16:31:08.072059",
     "status": "completed"
    },
    "tags": []
   },
   "outputs": [
    {
     "data": {
      "text/plain": [
       "Timestamp                  0\n",
       "Open                 1243608\n",
       "High                 1243608\n",
       "Low                  1243608\n",
       "Close                1243608\n",
       "Volume_(BTC)         1243608\n",
       "Volume_(Currency)    1243608\n",
       "Weighted_Price       1243608\n",
       "dtype: int64"
      ]
     },
     "execution_count": 6,
     "metadata": {},
     "output_type": "execute_result"
    }
   ],
   "source": [
    "data.isna().sum()"
   ]
  },
  {
   "cell_type": "code",
   "execution_count": 7,
   "id": "8282d690",
   "metadata": {
    "execution": {
     "iopub.execute_input": "2021-11-18T16:31:08.359799Z",
     "iopub.status.busy": "2021-11-18T16:31:08.358960Z",
     "iopub.status.idle": "2021-11-18T16:31:08.362139Z",
     "shell.execute_reply": "2021-11-18T16:31:08.362622Z",
     "shell.execute_reply.started": "2021-11-18T16:24:47.507497Z"
    },
    "papermill": {
     "duration": 0.117344,
     "end_time": "2021-11-18T16:31:08.362944",
     "exception": false,
     "start_time": "2021-11-18T16:31:08.245600",
     "status": "completed"
    },
    "tags": []
   },
   "outputs": [
    {
     "data": {
      "text/html": [
       "<div>\n",
       "<style scoped>\n",
       "    .dataframe tbody tr th:only-of-type {\n",
       "        vertical-align: middle;\n",
       "    }\n",
       "\n",
       "    .dataframe tbody tr th {\n",
       "        vertical-align: top;\n",
       "    }\n",
       "\n",
       "    .dataframe thead th {\n",
       "        text-align: right;\n",
       "    }\n",
       "</style>\n",
       "<table border=\"1\" class=\"dataframe\">\n",
       "  <thead>\n",
       "    <tr style=\"text-align: right;\">\n",
       "      <th></th>\n",
       "      <th>Timestamp</th>\n",
       "      <th>Open</th>\n",
       "      <th>High</th>\n",
       "      <th>Low</th>\n",
       "      <th>Close</th>\n",
       "      <th>Volume_(BTC)</th>\n",
       "      <th>Volume_(Currency)</th>\n",
       "      <th>Weighted_Price</th>\n",
       "    </tr>\n",
       "  </thead>\n",
       "  <tbody>\n",
       "    <tr>\n",
       "      <th>4857372</th>\n",
       "      <td>1617148560</td>\n",
       "      <td>58714.31</td>\n",
       "      <td>58714.31</td>\n",
       "      <td>58686.00</td>\n",
       "      <td>58686.00</td>\n",
       "      <td>1.38</td>\n",
       "      <td>81259.37</td>\n",
       "      <td>58692.75</td>\n",
       "    </tr>\n",
       "    <tr>\n",
       "      <th>4857373</th>\n",
       "      <td>1617148620</td>\n",
       "      <td>58683.97</td>\n",
       "      <td>58693.43</td>\n",
       "      <td>58683.97</td>\n",
       "      <td>58685.81</td>\n",
       "      <td>7.29</td>\n",
       "      <td>428158.15</td>\n",
       "      <td>58693.23</td>\n",
       "    </tr>\n",
       "    <tr>\n",
       "      <th>4857374</th>\n",
       "      <td>1617148680</td>\n",
       "      <td>58693.43</td>\n",
       "      <td>58723.84</td>\n",
       "      <td>58693.43</td>\n",
       "      <td>58723.84</td>\n",
       "      <td>1.71</td>\n",
       "      <td>100117.07</td>\n",
       "      <td>58696.20</td>\n",
       "    </tr>\n",
       "    <tr>\n",
       "      <th>4857375</th>\n",
       "      <td>1617148740</td>\n",
       "      <td>58742.18</td>\n",
       "      <td>58770.38</td>\n",
       "      <td>58742.18</td>\n",
       "      <td>58760.59</td>\n",
       "      <td>0.72</td>\n",
       "      <td>42332.96</td>\n",
       "      <td>58761.87</td>\n",
       "    </tr>\n",
       "    <tr>\n",
       "      <th>4857376</th>\n",
       "      <td>1617148800</td>\n",
       "      <td>58767.75</td>\n",
       "      <td>58778.18</td>\n",
       "      <td>58755.97</td>\n",
       "      <td>58778.18</td>\n",
       "      <td>2.71</td>\n",
       "      <td>159417.75</td>\n",
       "      <td>58764.35</td>\n",
       "    </tr>\n",
       "  </tbody>\n",
       "</table>\n",
       "</div>"
      ],
      "text/plain": [
       "          Timestamp     Open     High      Low    Close  Volume_(BTC)  \\\n",
       "4857372  1617148560 58714.31 58714.31 58686.00 58686.00          1.38   \n",
       "4857373  1617148620 58683.97 58693.43 58683.97 58685.81          7.29   \n",
       "4857374  1617148680 58693.43 58723.84 58693.43 58723.84          1.71   \n",
       "4857375  1617148740 58742.18 58770.38 58742.18 58760.59          0.72   \n",
       "4857376  1617148800 58767.75 58778.18 58755.97 58778.18          2.71   \n",
       "\n",
       "         Volume_(Currency)  Weighted_Price  \n",
       "4857372           81259.37        58692.75  \n",
       "4857373          428158.15        58693.23  \n",
       "4857374          100117.07        58696.20  \n",
       "4857375           42332.96        58761.87  \n",
       "4857376          159417.75        58764.35  "
      ]
     },
     "execution_count": 7,
     "metadata": {},
     "output_type": "execute_result"
    }
   ],
   "source": [
    "data.tail()"
   ]
  },
  {
   "cell_type": "code",
   "execution_count": 8,
   "id": "810bf2f1",
   "metadata": {
    "execution": {
     "iopub.execute_input": "2021-11-18T16:31:08.458902Z",
     "iopub.status.busy": "2021-11-18T16:31:08.458171Z",
     "iopub.status.idle": "2021-11-18T16:31:11.052410Z",
     "shell.execute_reply": "2021-11-18T16:31:11.051836Z",
     "shell.execute_reply.started": "2021-11-18T16:24:47.520910Z"
    },
    "papermill": {
     "duration": 2.646255,
     "end_time": "2021-11-18T16:31:11.052548",
     "exception": false,
     "start_time": "2021-11-18T16:31:08.406293",
     "status": "completed"
    },
    "tags": []
   },
   "outputs": [],
   "source": [
    "data[\"date\"] = pd.to_datetime(data[\"Timestamp\"],unit=\"s\").dt.date\n"
   ]
  },
  {
   "cell_type": "code",
   "execution_count": 9,
   "id": "62601cc5",
   "metadata": {
    "execution": {
     "iopub.execute_input": "2021-11-18T16:31:11.150699Z",
     "iopub.status.busy": "2021-11-18T16:31:11.149942Z",
     "iopub.status.idle": "2021-11-18T16:31:11.153044Z",
     "shell.execute_reply": "2021-11-18T16:31:11.153541Z",
     "shell.execute_reply.started": "2021-11-18T16:24:49.234426Z"
    },
    "papermill": {
     "duration": 0.058052,
     "end_time": "2021-11-18T16:31:11.153703",
     "exception": false,
     "start_time": "2021-11-18T16:31:11.095651",
     "status": "completed"
    },
    "tags": []
   },
   "outputs": [
    {
     "data": {
      "text/html": [
       "<div>\n",
       "<style scoped>\n",
       "    .dataframe tbody tr th:only-of-type {\n",
       "        vertical-align: middle;\n",
       "    }\n",
       "\n",
       "    .dataframe tbody tr th {\n",
       "        vertical-align: top;\n",
       "    }\n",
       "\n",
       "    .dataframe thead th {\n",
       "        text-align: right;\n",
       "    }\n",
       "</style>\n",
       "<table border=\"1\" class=\"dataframe\">\n",
       "  <thead>\n",
       "    <tr style=\"text-align: right;\">\n",
       "      <th></th>\n",
       "      <th>Timestamp</th>\n",
       "      <th>Open</th>\n",
       "      <th>High</th>\n",
       "      <th>Low</th>\n",
       "      <th>Close</th>\n",
       "      <th>Volume_(BTC)</th>\n",
       "      <th>Volume_(Currency)</th>\n",
       "      <th>Weighted_Price</th>\n",
       "      <th>date</th>\n",
       "    </tr>\n",
       "  </thead>\n",
       "  <tbody>\n",
       "    <tr>\n",
       "      <th>0</th>\n",
       "      <td>1325317920</td>\n",
       "      <td>4.39</td>\n",
       "      <td>4.39</td>\n",
       "      <td>4.39</td>\n",
       "      <td>4.39</td>\n",
       "      <td>0.46</td>\n",
       "      <td>2.00</td>\n",
       "      <td>4.39</td>\n",
       "      <td>2011-12-31</td>\n",
       "    </tr>\n",
       "    <tr>\n",
       "      <th>1</th>\n",
       "      <td>1325317980</td>\n",
       "      <td>NaN</td>\n",
       "      <td>NaN</td>\n",
       "      <td>NaN</td>\n",
       "      <td>NaN</td>\n",
       "      <td>NaN</td>\n",
       "      <td>NaN</td>\n",
       "      <td>NaN</td>\n",
       "      <td>2011-12-31</td>\n",
       "    </tr>\n",
       "    <tr>\n",
       "      <th>2</th>\n",
       "      <td>1325318040</td>\n",
       "      <td>NaN</td>\n",
       "      <td>NaN</td>\n",
       "      <td>NaN</td>\n",
       "      <td>NaN</td>\n",
       "      <td>NaN</td>\n",
       "      <td>NaN</td>\n",
       "      <td>NaN</td>\n",
       "      <td>2011-12-31</td>\n",
       "    </tr>\n",
       "    <tr>\n",
       "      <th>3</th>\n",
       "      <td>1325318100</td>\n",
       "      <td>NaN</td>\n",
       "      <td>NaN</td>\n",
       "      <td>NaN</td>\n",
       "      <td>NaN</td>\n",
       "      <td>NaN</td>\n",
       "      <td>NaN</td>\n",
       "      <td>NaN</td>\n",
       "      <td>2011-12-31</td>\n",
       "    </tr>\n",
       "    <tr>\n",
       "      <th>4</th>\n",
       "      <td>1325318160</td>\n",
       "      <td>NaN</td>\n",
       "      <td>NaN</td>\n",
       "      <td>NaN</td>\n",
       "      <td>NaN</td>\n",
       "      <td>NaN</td>\n",
       "      <td>NaN</td>\n",
       "      <td>NaN</td>\n",
       "      <td>2011-12-31</td>\n",
       "    </tr>\n",
       "  </tbody>\n",
       "</table>\n",
       "</div>"
      ],
      "text/plain": [
       "    Timestamp  Open  High  Low  Close  Volume_(BTC)  Volume_(Currency)  \\\n",
       "0  1325317920  4.39  4.39 4.39   4.39          0.46               2.00   \n",
       "1  1325317980   NaN   NaN  NaN    NaN           NaN                NaN   \n",
       "2  1325318040   NaN   NaN  NaN    NaN           NaN                NaN   \n",
       "3  1325318100   NaN   NaN  NaN    NaN           NaN                NaN   \n",
       "4  1325318160   NaN   NaN  NaN    NaN           NaN                NaN   \n",
       "\n",
       "   Weighted_Price        date  \n",
       "0            4.39  2011-12-31  \n",
       "1             NaN  2011-12-31  \n",
       "2             NaN  2011-12-31  \n",
       "3             NaN  2011-12-31  \n",
       "4             NaN  2011-12-31  "
      ]
     },
     "execution_count": 9,
     "metadata": {},
     "output_type": "execute_result"
    }
   ],
   "source": [
    "data.head()"
   ]
  },
  {
   "cell_type": "code",
   "execution_count": 10,
   "id": "b6b69cf3",
   "metadata": {
    "execution": {
     "iopub.execute_input": "2021-11-18T16:31:11.244980Z",
     "iopub.status.busy": "2021-11-18T16:31:11.244028Z",
     "iopub.status.idle": "2021-11-18T16:31:12.363172Z",
     "shell.execute_reply": "2021-11-18T16:31:12.362449Z",
     "shell.execute_reply.started": "2021-11-18T16:24:49.250677Z"
    },
    "papermill": {
     "duration": 1.165123,
     "end_time": "2021-11-18T16:31:12.363318",
     "exception": false,
     "start_time": "2021-11-18T16:31:11.198195",
     "status": "completed"
    },
    "tags": []
   },
   "outputs": [],
   "source": [
    "data = data.dropna().set_index(\"date\")"
   ]
  },
  {
   "cell_type": "code",
   "execution_count": 11,
   "id": "a5ab5e19",
   "metadata": {
    "execution": {
     "iopub.execute_input": "2021-11-18T16:31:12.459373Z",
     "iopub.status.busy": "2021-11-18T16:31:12.458372Z",
     "iopub.status.idle": "2021-11-18T16:31:12.525685Z",
     "shell.execute_reply": "2021-11-18T16:31:12.525153Z",
     "shell.execute_reply.started": "2021-11-18T16:24:50.058341Z"
    },
    "papermill": {
     "duration": 0.114606,
     "end_time": "2021-11-18T16:31:12.525869",
     "exception": false,
     "start_time": "2021-11-18T16:31:12.411263",
     "status": "completed"
    },
    "tags": []
   },
   "outputs": [
    {
     "data": {
      "text/plain": [
       "Timestamp            0\n",
       "Open                 0\n",
       "High                 0\n",
       "Low                  0\n",
       "Close                0\n",
       "Volume_(BTC)         0\n",
       "Volume_(Currency)    0\n",
       "Weighted_Price       0\n",
       "dtype: int64"
      ]
     },
     "execution_count": 11,
     "metadata": {},
     "output_type": "execute_result"
    }
   ],
   "source": [
    "data.isna().sum()"
   ]
  },
  {
   "cell_type": "code",
   "execution_count": 12,
   "id": "1e088cf9",
   "metadata": {
    "execution": {
     "iopub.execute_input": "2021-11-18T16:31:12.617661Z",
     "iopub.status.busy": "2021-11-18T16:31:12.616721Z",
     "iopub.status.idle": "2021-11-18T16:31:12.627552Z",
     "shell.execute_reply": "2021-11-18T16:31:12.628200Z",
     "shell.execute_reply.started": "2021-11-18T16:24:50.120248Z"
    },
    "papermill": {
     "duration": 0.057209,
     "end_time": "2021-11-18T16:31:12.628369",
     "exception": false,
     "start_time": "2021-11-18T16:31:12.571160",
     "status": "completed"
    },
    "tags": []
   },
   "outputs": [
    {
     "data": {
      "text/html": [
       "<div>\n",
       "<style scoped>\n",
       "    .dataframe tbody tr th:only-of-type {\n",
       "        vertical-align: middle;\n",
       "    }\n",
       "\n",
       "    .dataframe tbody tr th {\n",
       "        vertical-align: top;\n",
       "    }\n",
       "\n",
       "    .dataframe thead th {\n",
       "        text-align: right;\n",
       "    }\n",
       "</style>\n",
       "<table border=\"1\" class=\"dataframe\">\n",
       "  <thead>\n",
       "    <tr style=\"text-align: right;\">\n",
       "      <th></th>\n",
       "      <th>Timestamp</th>\n",
       "      <th>Open</th>\n",
       "      <th>High</th>\n",
       "      <th>Low</th>\n",
       "      <th>Close</th>\n",
       "      <th>Volume_(BTC)</th>\n",
       "      <th>Volume_(Currency)</th>\n",
       "      <th>Weighted_Price</th>\n",
       "    </tr>\n",
       "    <tr>\n",
       "      <th>date</th>\n",
       "      <th></th>\n",
       "      <th></th>\n",
       "      <th></th>\n",
       "      <th></th>\n",
       "      <th></th>\n",
       "      <th></th>\n",
       "      <th></th>\n",
       "      <th></th>\n",
       "    </tr>\n",
       "  </thead>\n",
       "  <tbody>\n",
       "    <tr>\n",
       "      <th>2011-12-31</th>\n",
       "      <td>1325317920</td>\n",
       "      <td>4.39</td>\n",
       "      <td>4.39</td>\n",
       "      <td>4.39</td>\n",
       "      <td>4.39</td>\n",
       "      <td>0.46</td>\n",
       "      <td>2.00</td>\n",
       "      <td>4.39</td>\n",
       "    </tr>\n",
       "    <tr>\n",
       "      <th>2011-12-31</th>\n",
       "      <td>1325346600</td>\n",
       "      <td>4.39</td>\n",
       "      <td>4.39</td>\n",
       "      <td>4.39</td>\n",
       "      <td>4.39</td>\n",
       "      <td>48.00</td>\n",
       "      <td>210.72</td>\n",
       "      <td>4.39</td>\n",
       "    </tr>\n",
       "    <tr>\n",
       "      <th>2011-12-31</th>\n",
       "      <td>1325350740</td>\n",
       "      <td>4.50</td>\n",
       "      <td>4.57</td>\n",
       "      <td>4.50</td>\n",
       "      <td>4.57</td>\n",
       "      <td>37.86</td>\n",
       "      <td>171.38</td>\n",
       "      <td>4.53</td>\n",
       "    </tr>\n",
       "    <tr>\n",
       "      <th>2011-12-31</th>\n",
       "      <td>1325350800</td>\n",
       "      <td>4.58</td>\n",
       "      <td>4.58</td>\n",
       "      <td>4.58</td>\n",
       "      <td>4.58</td>\n",
       "      <td>9.00</td>\n",
       "      <td>41.22</td>\n",
       "      <td>4.58</td>\n",
       "    </tr>\n",
       "    <tr>\n",
       "      <th>2012-01-01</th>\n",
       "      <td>1325391360</td>\n",
       "      <td>4.58</td>\n",
       "      <td>4.58</td>\n",
       "      <td>4.58</td>\n",
       "      <td>4.58</td>\n",
       "      <td>1.50</td>\n",
       "      <td>6.88</td>\n",
       "      <td>4.58</td>\n",
       "    </tr>\n",
       "  </tbody>\n",
       "</table>\n",
       "</div>"
      ],
      "text/plain": [
       "             Timestamp  Open  High  Low  Close  Volume_(BTC)  \\\n",
       "date                                                           \n",
       "2011-12-31  1325317920  4.39  4.39 4.39   4.39          0.46   \n",
       "2011-12-31  1325346600  4.39  4.39 4.39   4.39         48.00   \n",
       "2011-12-31  1325350740  4.50  4.57 4.50   4.57         37.86   \n",
       "2011-12-31  1325350800  4.58  4.58 4.58   4.58          9.00   \n",
       "2012-01-01  1325391360  4.58  4.58 4.58   4.58          1.50   \n",
       "\n",
       "            Volume_(Currency)  Weighted_Price  \n",
       "date                                           \n",
       "2011-12-31               2.00            4.39  \n",
       "2011-12-31             210.72            4.39  \n",
       "2011-12-31             171.38            4.53  \n",
       "2011-12-31              41.22            4.58  \n",
       "2012-01-01               6.88            4.58  "
      ]
     },
     "execution_count": 12,
     "metadata": {},
     "output_type": "execute_result"
    }
   ],
   "source": [
    "data.head()"
   ]
  },
  {
   "cell_type": "code",
   "execution_count": 13,
   "id": "f7cc8bbb",
   "metadata": {
    "execution": {
     "iopub.execute_input": "2021-11-18T16:31:12.720430Z",
     "iopub.status.busy": "2021-11-18T16:31:12.719475Z",
     "iopub.status.idle": "2021-11-18T16:31:19.175565Z",
     "shell.execute_reply": "2021-11-18T16:31:19.176066Z",
     "shell.execute_reply.started": "2021-11-18T16:24:50.133614Z"
    },
    "papermill": {
     "duration": 6.503829,
     "end_time": "2021-11-18T16:31:19.176230",
     "exception": false,
     "start_time": "2021-11-18T16:31:12.672401",
     "status": "completed"
    },
    "tags": []
   },
   "outputs": [
    {
     "data": {
      "image/png": "[encoded data removed]",
      "text/plain": [
       "<Figure size 864x576 with 1 Axes>"
      ]
     },
     "metadata": {
      "needs_background": "light"
     },
     "output_type": "display_data"
    }
   ],
   "source": [
    "dataset = data.iloc[:, 4].values\n",
    "date = data.index\n",
    "plt.figure(figsize=(12,8))\n",
    "plt.plot(date,dataset)\n",
    "plt.xlabel(\"Date\")\n",
    "plt.ylabel(\"Close Price\")\n",
    "plt.title(\"Bitcoin Prices by Year\")\n",
    "plt.show()"
   ]
  },
  {
   "cell_type": "markdown",
   "id": "48df25f2",
   "metadata": {
    "execution": {
     "iopub.execute_input": "2021-11-18T07:49:11.200838Z",
     "iopub.status.busy": "2021-11-18T07:49:11.200546Z",
     "iopub.status.idle": "2021-11-18T07:49:11.205417Z",
     "shell.execute_reply": "2021-11-18T07:49:11.20443Z",
     "shell.execute_reply.started": "2021-11-18T07:49:11.200808Z"
    },
    "papermill": {
     "duration": 0.044941,
     "end_time": "2021-11-18T16:31:19.266828",
     "exception": false,
     "start_time": "2021-11-18T16:31:19.221887",
     "status": "completed"
    },
    "tags": []
   },
   "source": [
    "## Preprocessing Data"
   ]
  },
  {
   "cell_type": "code",
   "execution_count": 14,
   "id": "ae0f2d15",
   "metadata": {
    "execution": {
     "iopub.execute_input": "2021-11-18T16:31:19.361004Z",
     "iopub.status.busy": "2021-11-18T16:31:19.360408Z",
     "iopub.status.idle": "2021-11-18T16:31:20.162421Z",
     "shell.execute_reply": "2021-11-18T16:31:20.161674Z",
     "shell.execute_reply.started": "2021-11-18T16:24:55.052350Z"
    },
    "papermill": {
     "duration": 0.849532,
     "end_time": "2021-11-18T16:31:20.162572",
     "exception": false,
     "start_time": "2021-11-18T16:31:19.313040",
     "status": "completed"
    },
    "tags": []
   },
   "outputs": [],
   "source": [
    "group = data.groupby(\"date\")\n",
    "data = group[\"Close\"].mean()"
   ]
  },
  {
   "cell_type": "code",
   "execution_count": 15,
   "id": "84ab234e",
   "metadata": {
    "execution": {
     "iopub.execute_input": "2021-11-18T16:31:20.255204Z",
     "iopub.status.busy": "2021-11-18T16:31:20.254608Z",
     "iopub.status.idle": "2021-11-18T16:31:20.259223Z",
     "shell.execute_reply": "2021-11-18T16:31:20.259775Z",
     "shell.execute_reply.started": "2021-11-18T16:24:55.552598Z"
    },
    "papermill": {
     "duration": 0.052324,
     "end_time": "2021-11-18T16:31:20.259995",
     "exception": false,
     "start_time": "2021-11-18T16:31:20.207671",
     "status": "completed"
    },
    "tags": []
   },
   "outputs": [
    {
     "data": {
      "text/plain": [
       "(3376,)"
      ]
     },
     "execution_count": 15,
     "metadata": {},
     "output_type": "execute_result"
    }
   ],
   "source": [
    "data.shape"
   ]
  },
  {
   "cell_type": "code",
   "execution_count": 16,
   "id": "ee6164ea",
   "metadata": {
    "execution": {
     "iopub.execute_input": "2021-11-18T16:31:20.357697Z",
     "iopub.status.busy": "2021-11-18T16:31:20.357035Z",
     "iopub.status.idle": "2021-11-18T16:31:20.362633Z",
     "shell.execute_reply": "2021-11-18T16:31:20.363176Z",
     "shell.execute_reply.started": "2021-11-18T16:24:55.559980Z"
    },
    "papermill": {
     "duration": 0.058186,
     "end_time": "2021-11-18T16:31:20.363392",
     "exception": false,
     "start_time": "2021-11-18T16:31:20.305206",
     "status": "completed"
    },
    "tags": []
   },
   "outputs": [
    {
     "data": {
      "text/html": [
       "<div>\n",
       "<style scoped>\n",
       "    .dataframe tbody tr th:only-of-type {\n",
       "        vertical-align: middle;\n",
       "    }\n",
       "\n",
       "    .dataframe tbody tr th {\n",
       "        vertical-align: top;\n",
       "    }\n",
       "\n",
       "    .dataframe thead th {\n",
       "        text-align: right;\n",
       "    }\n",
       "</style>\n",
       "<table border=\"1\" class=\"dataframe\">\n",
       "  <thead>\n",
       "    <tr style=\"text-align: right;\">\n",
       "      <th></th>\n",
       "      <th>Close</th>\n",
       "    </tr>\n",
       "    <tr>\n",
       "      <th>date</th>\n",
       "      <th></th>\n",
       "    </tr>\n",
       "  </thead>\n",
       "  <tbody>\n",
       "    <tr>\n",
       "      <th>2011-12-31</th>\n",
       "      <td>4.48</td>\n",
       "    </tr>\n",
       "    <tr>\n",
       "      <th>2012-01-01</th>\n",
       "      <td>4.81</td>\n",
       "    </tr>\n",
       "    <tr>\n",
       "      <th>2012-01-02</th>\n",
       "      <td>5.00</td>\n",
       "    </tr>\n",
       "    <tr>\n",
       "      <th>2012-01-03</th>\n",
       "      <td>5.25</td>\n",
       "    </tr>\n",
       "    <tr>\n",
       "      <th>2012-01-04</th>\n",
       "      <td>5.22</td>\n",
       "    </tr>\n",
       "    <tr>\n",
       "      <th>...</th>\n",
       "      <td>...</td>\n",
       "    </tr>\n",
       "    <tr>\n",
       "      <th>2021-03-27</th>\n",
       "      <td>55195.42</td>\n",
       "    </tr>\n",
       "    <tr>\n",
       "      <th>2021-03-28</th>\n",
       "      <td>55835.01</td>\n",
       "    </tr>\n",
       "    <tr>\n",
       "      <th>2021-03-29</th>\n",
       "      <td>56915.63</td>\n",
       "    </tr>\n",
       "    <tr>\n",
       "      <th>2021-03-30</th>\n",
       "      <td>58349.36</td>\n",
       "    </tr>\n",
       "    <tr>\n",
       "      <th>2021-03-31</th>\n",
       "      <td>58778.18</td>\n",
       "    </tr>\n",
       "  </tbody>\n",
       "</table>\n",
       "<p>3376 rows × 1 columns</p>\n",
       "</div>"
      ],
      "text/plain": [
       "              Close\n",
       "date               \n",
       "2011-12-31     4.48\n",
       "2012-01-01     4.81\n",
       "2012-01-02     5.00\n",
       "2012-01-03     5.25\n",
       "2012-01-04     5.22\n",
       "...             ...\n",
       "2021-03-27 55195.42\n",
       "2021-03-28 55835.01\n",
       "2021-03-29 56915.63\n",
       "2021-03-30 58349.36\n",
       "2021-03-31 58778.18\n",
       "\n",
       "[3376 rows x 1 columns]"
      ]
     },
     "execution_count": 16,
     "metadata": {},
     "output_type": "execute_result"
    }
   ],
   "source": [
    "pd.DataFrame(data)"
   ]
  },
  {
   "cell_type": "code",
   "execution_count": 17,
   "id": "bddb6c54",
   "metadata": {
    "execution": {
     "iopub.execute_input": "2021-11-18T16:31:20.459805Z",
     "iopub.status.busy": "2021-11-18T16:31:20.459154Z",
     "iopub.status.idle": "2021-11-18T16:31:20.461704Z",
     "shell.execute_reply": "2021-11-18T16:31:20.461248Z",
     "shell.execute_reply.started": "2021-11-18T16:24:55.582059Z"
    },
    "papermill": {
     "duration": 0.052404,
     "end_time": "2021-11-18T16:31:20.461842",
     "exception": false,
     "start_time": "2021-11-18T16:31:20.409438",
     "status": "completed"
    },
    "tags": []
   },
   "outputs": [],
   "source": [
    "dataset = data.values"
   ]
  },
  {
   "cell_type": "code",
   "execution_count": 18,
   "id": "f132179d",
   "metadata": {
    "execution": {
     "iopub.execute_input": "2021-11-18T16:31:20.557549Z",
     "iopub.status.busy": "2021-11-18T16:31:20.556938Z",
     "iopub.status.idle": "2021-11-18T16:31:20.561082Z",
     "shell.execute_reply": "2021-11-18T16:31:20.561666Z",
     "shell.execute_reply.started": "2021-11-18T16:24:55.596405Z"
    },
    "papermill": {
     "duration": 0.053733,
     "end_time": "2021-11-18T16:31:20.561863",
     "exception": false,
     "start_time": "2021-11-18T16:31:20.508130",
     "status": "completed"
    },
    "tags": []
   },
   "outputs": [
    {
     "data": {
      "text/plain": [
       "array([4.48250000e+00, 4.80666667e+00, 5.00000000e+00, ...,\n",
       "       5.69156300e+04, 5.83493571e+04, 5.87781800e+04])"
      ]
     },
     "execution_count": 18,
     "metadata": {},
     "output_type": "execute_result"
    }
   ],
   "source": [
    "dataset"
   ]
  },
  {
   "cell_type": "code",
   "execution_count": 19,
   "id": "100b4c19",
   "metadata": {
    "execution": {
     "iopub.execute_input": "2021-11-18T16:31:20.656965Z",
     "iopub.status.busy": "2021-11-18T16:31:20.656378Z",
     "iopub.status.idle": "2021-11-18T16:31:20.661349Z",
     "shell.execute_reply": "2021-11-18T16:31:20.661938Z",
     "shell.execute_reply.started": "2021-11-18T16:24:55.613125Z"
    },
    "papermill": {
     "duration": 0.054459,
     "end_time": "2021-11-18T16:31:20.662091",
     "exception": false,
     "start_time": "2021-11-18T16:31:20.607632",
     "status": "completed"
    },
    "tags": []
   },
   "outputs": [
    {
     "data": {
      "text/plain": [
       "(3376, 1)"
      ]
     },
     "execution_count": 19,
     "metadata": {},
     "output_type": "execute_result"
    }
   ],
   "source": [
    "dataset = dataset.reshape(-1,1)\n",
    "dataset = dataset.astype(\"float32\")\n",
    "dataset.shape"
   ]
  },
  {
   "cell_type": "code",
   "execution_count": 20,
   "id": "d8244f3e",
   "metadata": {
    "execution": {
     "iopub.execute_input": "2021-11-18T16:31:20.757461Z",
     "iopub.status.busy": "2021-11-18T16:31:20.756885Z",
     "iopub.status.idle": "2021-11-18T16:31:20.761383Z",
     "shell.execute_reply": "2021-11-18T16:31:20.762064Z",
     "shell.execute_reply.started": "2021-11-18T16:24:55.629027Z"
    },
    "papermill": {
     "duration": 0.053783,
     "end_time": "2021-11-18T16:31:20.762233",
     "exception": false,
     "start_time": "2021-11-18T16:31:20.708450",
     "status": "completed"
    },
    "tags": []
   },
   "outputs": [
    {
     "data": {
      "text/plain": [
       "array([[4.4825001e+00],\n",
       "       [4.8066669e+00],\n",
       "       [5.0000000e+00],\n",
       "       ...,\n",
       "       [5.6915629e+04],\n",
       "       [5.8349355e+04],\n",
       "       [5.8778180e+04]], dtype=float32)"
      ]
     },
     "execution_count": 20,
     "metadata": {},
     "output_type": "execute_result"
    }
   ],
   "source": [
    "dataset"
   ]
  },
  {
   "cell_type": "code",
   "execution_count": 21,
   "id": "acedf022",
   "metadata": {
    "execution": {
     "iopub.execute_input": "2021-11-18T16:31:20.859025Z",
     "iopub.status.busy": "2021-11-18T16:31:20.858372Z",
     "iopub.status.idle": "2021-11-18T16:31:20.862595Z",
     "shell.execute_reply": "2021-11-18T16:31:20.863213Z",
     "shell.execute_reply.started": "2021-11-18T16:24:55.643629Z"
    },
    "papermill": {
     "duration": 0.054558,
     "end_time": "2021-11-18T16:31:20.863368",
     "exception": false,
     "start_time": "2021-11-18T16:31:20.808810",
     "status": "completed"
    },
    "tags": []
   },
   "outputs": [],
   "source": [
    "scaler = MinMaxScaler(feature_range=(0,1))\n",
    "dataset = scaler.fit_transform(dataset)"
   ]
  },
  {
   "cell_type": "markdown",
   "id": "13069729",
   "metadata": {
    "execution": {
     "iopub.execute_input": "2021-11-18T08:01:32.752704Z",
     "iopub.status.busy": "2021-11-18T08:01:32.752435Z",
     "iopub.status.idle": "2021-11-18T08:01:32.756324Z",
     "shell.execute_reply": "2021-11-18T08:01:32.755466Z",
     "shell.execute_reply.started": "2021-11-18T08:01:32.752675Z"
    },
    "papermill": {
     "duration": 0.046012,
     "end_time": "2021-11-18T16:31:20.956704",
     "exception": false,
     "start_time": "2021-11-18T16:31:20.910692",
     "status": "completed"
    },
    "tags": []
   },
   "source": [
    "## LSTM Train-Test Split"
   ]
  },
  {
   "cell_type": "code",
   "execution_count": 22,
   "id": "05b55745",
   "metadata": {
    "execution": {
     "iopub.execute_input": "2021-11-18T16:31:21.216534Z",
     "iopub.status.busy": "2021-11-18T16:31:21.215595Z",
     "iopub.status.idle": "2021-11-18T16:31:21.218139Z",
     "shell.execute_reply": "2021-11-18T16:31:21.217545Z",
     "shell.execute_reply.started": "2021-11-18T16:24:55.660395Z"
    },
    "papermill": {
     "duration": 0.214794,
     "end_time": "2021-11-18T16:31:21.218286",
     "exception": false,
     "start_time": "2021-11-18T16:31:21.003492",
     "status": "completed"
    },
    "tags": []
   },
   "outputs": [],
   "source": [
    "train_size = int(len(dataset)*0.95)\n",
    "test_size = len(dataset)- train_size"
   ]
  },
  {
   "cell_type": "code",
   "execution_count": 23,
   "id": "0461d16f",
   "metadata": {
    "execution": {
     "iopub.execute_input": "2021-11-18T16:31:21.314328Z",
     "iopub.status.busy": "2021-11-18T16:31:21.313692Z",
     "iopub.status.idle": "2021-11-18T16:31:21.318407Z",
     "shell.execute_reply": "2021-11-18T16:31:21.318949Z",
     "shell.execute_reply.started": "2021-11-18T16:24:55.675317Z"
    },
    "papermill": {
     "duration": 0.054806,
     "end_time": "2021-11-18T16:31:21.319114",
     "exception": false,
     "start_time": "2021-11-18T16:31:21.264308",
     "status": "completed"
    },
    "tags": []
   },
   "outputs": [
    {
     "name": "stdout",
     "output_type": "stream",
     "text": [
      "train size: 3207, test size: 169\n"
     ]
    }
   ],
   "source": [
    "train = dataset[0:train_size, :]\n",
    "test = dataset[train_size:len(dataset), :]\n",
    "print(\"train size: {}, test size: {}\". format(len(train), len(test)))"
   ]
  },
  {
   "cell_type": "code",
   "execution_count": 24,
   "id": "df6eb978",
   "metadata": {
    "execution": {
     "iopub.execute_input": "2021-11-18T16:31:21.415836Z",
     "iopub.status.busy": "2021-11-18T16:31:21.415252Z",
     "iopub.status.idle": "2021-11-18T16:31:21.426618Z",
     "shell.execute_reply": "2021-11-18T16:31:21.427138Z",
     "shell.execute_reply.started": "2021-11-18T16:24:55.692633Z"
    },
    "papermill": {
     "duration": 0.061713,
     "end_time": "2021-11-18T16:31:21.427327",
     "exception": false,
     "start_time": "2021-11-18T16:31:21.365614",
     "status": "completed"
    },
    "tags": []
   },
   "outputs": [],
   "source": [
    "time_stemp = 10\n",
    "dataX = []\n",
    "dataY = []\n",
    "for i in range(len(train) - time_stemp - 1):\n",
    "    a = train[i:(i + time_stemp), 0]\n",
    "    dataX.append(a)\n",
    "    dataY.append(train[i + time_stemp, 0])\n",
    "trainX = np.array(dataX)\n",
    "trainY = np.array(dataY)"
   ]
  },
  {
   "cell_type": "code",
   "execution_count": 25,
   "id": "3f893fbf",
   "metadata": {
    "execution": {
     "iopub.execute_input": "2021-11-18T16:31:21.523912Z",
     "iopub.status.busy": "2021-11-18T16:31:21.523250Z",
     "iopub.status.idle": "2021-11-18T16:31:21.527271Z",
     "shell.execute_reply": "2021-11-18T16:31:21.527776Z",
     "shell.execute_reply.started": "2021-11-18T16:24:55.711912Z"
    },
    "papermill": {
     "duration": 0.053462,
     "end_time": "2021-11-18T16:31:21.527930",
     "exception": false,
     "start_time": "2021-11-18T16:31:21.474468",
     "status": "completed"
    },
    "tags": []
   },
   "outputs": [
    {
     "data": {
      "text/plain": [
       "(3196, 10)"
      ]
     },
     "execution_count": 25,
     "metadata": {},
     "output_type": "execute_result"
    }
   ],
   "source": [
    "trainX.shape"
   ]
  },
  {
   "cell_type": "code",
   "execution_count": 26,
   "id": "2801922b",
   "metadata": {
    "execution": {
     "iopub.execute_input": "2021-11-18T16:31:21.627558Z",
     "iopub.status.busy": "2021-11-18T16:31:21.626906Z",
     "iopub.status.idle": "2021-11-18T16:31:21.631441Z",
     "shell.execute_reply": "2021-11-18T16:31:21.631914Z",
     "shell.execute_reply.started": "2021-11-18T16:24:55.727192Z"
    },
    "papermill": {
     "duration": 0.055897,
     "end_time": "2021-11-18T16:31:21.632074",
     "exception": false,
     "start_time": "2021-11-18T16:31:21.576177",
     "status": "completed"
    },
    "tags": []
   },
   "outputs": [
    {
     "data": {
      "text/plain": [
       "(3196,)"
      ]
     },
     "execution_count": 26,
     "metadata": {},
     "output_type": "execute_result"
    }
   ],
   "source": [
    "trainY.shape"
   ]
  },
  {
   "cell_type": "code",
   "execution_count": 27,
   "id": "a2649d28",
   "metadata": {
    "execution": {
     "iopub.execute_input": "2021-11-18T16:31:21.733074Z",
     "iopub.status.busy": "2021-11-18T16:31:21.732433Z",
     "iopub.status.idle": "2021-11-18T16:31:21.739110Z",
     "shell.execute_reply": "2021-11-18T16:31:21.739570Z",
     "shell.execute_reply.started": "2021-11-18T16:24:55.742615Z"
    },
    "papermill": {
     "duration": 0.059036,
     "end_time": "2021-11-18T16:31:21.739755",
     "exception": false,
     "start_time": "2021-11-18T16:31:21.680719",
     "status": "completed"
    },
    "tags": []
   },
   "outputs": [],
   "source": [
    "dataX = []\n",
    "dataY = []\n",
    "for i in range(len(test) - time_stemp -1):\n",
    "    a = test[i:(i + time_stemp), 0]\n",
    "    dataX.append(a)\n",
    "    dataY.append(test[i + time_stemp, 0])\n",
    "testX = np.array(dataX)\n",
    "testY = np.array(dataY)"
   ]
  },
  {
   "cell_type": "code",
   "execution_count": 28,
   "id": "57136b4b",
   "metadata": {
    "execution": {
     "iopub.execute_input": "2021-11-18T16:31:21.841610Z",
     "iopub.status.busy": "2021-11-18T16:31:21.840954Z",
     "iopub.status.idle": "2021-11-18T16:31:21.845125Z",
     "shell.execute_reply": "2021-11-18T16:31:21.845624Z",
     "shell.execute_reply.started": "2021-11-18T16:24:55.760052Z"
    },
    "papermill": {
     "duration": 0.05621,
     "end_time": "2021-11-18T16:31:21.845804",
     "exception": false,
     "start_time": "2021-11-18T16:31:21.789594",
     "status": "completed"
    },
    "tags": []
   },
   "outputs": [
    {
     "data": {
      "text/plain": [
       "(158, 10)"
      ]
     },
     "execution_count": 28,
     "metadata": {},
     "output_type": "execute_result"
    }
   ],
   "source": [
    "testX.shape"
   ]
  },
  {
   "cell_type": "code",
   "execution_count": 29,
   "id": "f23b07b1",
   "metadata": {
    "execution": {
     "iopub.execute_input": "2021-11-18T16:31:21.951186Z",
     "iopub.status.busy": "2021-11-18T16:31:21.950514Z",
     "iopub.status.idle": "2021-11-18T16:31:21.952966Z",
     "shell.execute_reply": "2021-11-18T16:31:21.953474Z",
     "shell.execute_reply.started": "2021-11-18T16:24:55.773524Z"
    },
    "papermill": {
     "duration": 0.057425,
     "end_time": "2021-11-18T16:31:21.953635",
     "exception": false,
     "start_time": "2021-11-18T16:31:21.896210",
     "status": "completed"
    },
    "tags": []
   },
   "outputs": [
    {
     "data": {
      "text/plain": [
       "(158,)"
      ]
     },
     "execution_count": 29,
     "metadata": {},
     "output_type": "execute_result"
    }
   ],
   "source": [
    "testY.shape"
   ]
  },
  {
   "cell_type": "code",
   "execution_count": 30,
   "id": "1097d1a1",
   "metadata": {
    "execution": {
     "iopub.execute_input": "2021-11-18T16:31:22.058970Z",
     "iopub.status.busy": "2021-11-18T16:31:22.056441Z",
     "iopub.status.idle": "2021-11-18T16:31:22.061872Z",
     "shell.execute_reply": "2021-11-18T16:31:22.061339Z",
     "shell.execute_reply.started": "2021-11-18T16:24:55.789633Z"
    },
    "papermill": {
     "duration": 0.057576,
     "end_time": "2021-11-18T16:31:22.062016",
     "exception": false,
     "start_time": "2021-11-18T16:31:22.004440",
     "status": "completed"
    },
    "tags": []
   },
   "outputs": [],
   "source": [
    "trainX = np.reshape(trainX, (trainX.shape[0], 1, trainX.shape[1]))\n",
    "testX = np.reshape(testX, (testX.shape[0], 1, testX.shape[1]))"
   ]
  },
  {
   "cell_type": "code",
   "execution_count": 31,
   "id": "cf17fd02",
   "metadata": {
    "execution": {
     "iopub.execute_input": "2021-11-18T16:31:22.166155Z",
     "iopub.status.busy": "2021-11-18T16:31:22.165425Z",
     "iopub.status.idle": "2021-11-18T16:31:22.167978Z",
     "shell.execute_reply": "2021-11-18T16:31:22.168444Z",
     "shell.execute_reply.started": "2021-11-18T16:24:55.807139Z"
    },
    "papermill": {
     "duration": 0.057386,
     "end_time": "2021-11-18T16:31:22.168622",
     "exception": false,
     "start_time": "2021-11-18T16:31:22.111236",
     "status": "completed"
    },
    "tags": []
   },
   "outputs": [
    {
     "data": {
      "text/plain": [
       "(3196, 1, 10)"
      ]
     },
     "execution_count": 31,
     "metadata": {},
     "output_type": "execute_result"
    }
   ],
   "source": [
    "trainX.shape"
   ]
  },
  {
   "cell_type": "code",
   "execution_count": 32,
   "id": "035a52b5",
   "metadata": {
    "execution": {
     "iopub.execute_input": "2021-11-18T16:31:22.270950Z",
     "iopub.status.busy": "2021-11-18T16:31:22.270257Z",
     "iopub.status.idle": "2021-11-18T16:31:22.275081Z",
     "shell.execute_reply": "2021-11-18T16:31:22.275762Z",
     "shell.execute_reply.started": "2021-11-18T16:24:55.824223Z"
    },
    "papermill": {
     "duration": 0.058259,
     "end_time": "2021-11-18T16:31:22.275943",
     "exception": false,
     "start_time": "2021-11-18T16:31:22.217684",
     "status": "completed"
    },
    "tags": []
   },
   "outputs": [
    {
     "data": {
      "text/plain": [
       "(3196,)"
      ]
     },
     "execution_count": 32,
     "metadata": {},
     "output_type": "execute_result"
    }
   ],
   "source": [
    "trainY.shape"
   ]
  },
  {
   "cell_type": "markdown",
   "id": "fe6756e5",
   "metadata": {
    "papermill": {
     "duration": 0.049224,
     "end_time": "2021-11-18T16:31:22.377706",
     "exception": false,
     "start_time": "2021-11-18T16:31:22.328482",
     "status": "completed"
    },
    "tags": []
   },
   "source": [
    "## LSTM Model"
   ]
  },
  {
   "cell_type": "code",
   "execution_count": 33,
   "id": "06b66452",
   "metadata": {
    "execution": {
     "iopub.execute_input": "2021-11-18T16:31:22.480047Z",
     "iopub.status.busy": "2021-11-18T16:31:22.479401Z",
     "iopub.status.idle": "2021-11-18T16:31:42.955122Z",
     "shell.execute_reply": "2021-11-18T16:31:42.955603Z",
     "shell.execute_reply.started": "2021-11-18T16:24:55.841208Z"
    },
    "papermill": {
     "duration": 20.528642,
     "end_time": "2021-11-18T16:31:42.955809",
     "exception": false,
     "start_time": "2021-11-18T16:31:22.427167",
     "status": "completed"
    },
    "tags": []
   },
   "outputs": [
    {
     "name": "stderr",
     "output_type": "stream",
     "text": [
      "\n",
      "User settings:\n",
      "\n",
      "   KMP_AFFINITY=granularity=fine,verbose,compact,1,0\n",
      "   KMP_BLOCKTIME=0\n",
      "   KMP_DUPLICATE_LIB_OK=True\n",
      "   KMP_INIT_AT_FORK=FALSE\n",
      "   KMP_SETTINGS=1\n",
      "   KMP_WARNINGS=0\n",
      "\n",
      "Effective settings:\n",
      "\n",
      "   KMP_ABORT_DELAY=0\n",
      "   KMP_ADAPTIVE_LOCK_PROPS='1,1024'\n",
      "   KMP_ALIGN_ALLOC=64\n",
      "   KMP_ALL_THREADPRIVATE=128\n",
      "   KMP_ATOMIC_MODE=2\n",
      "   KMP_BLOCKTIME=0\n",
      "   KMP_CPUINFO_FILE: value is not defined\n",
      "   KMP_DETERMINISTIC_REDUCTION=false\n",
      "   KMP_DEVICE_THREAD_LIMIT=2147483647\n",
      "   KMP_DISP_NUM_BUFFERS=7\n",
      "   KMP_DUPLICATE_LIB_OK=true\n",
      "   KMP_ENABLE_TASK_THROTTLING=true\n",
      "   KMP_FORCE_REDUCTION: value is not defined\n",
      "   KMP_FOREIGN_THREADS_THREADPRIVATE=true\n",
      "   KMP_FORKJOIN_BARRIER='2,2'\n",
      "   KMP_FORKJOIN_BARRIER_PATTERN='hyper,hyper'\n",
      "   KMP_GTID_MODE=3\n",
      "   KMP_HANDLE_SIGNALS=false\n",
      "   KMP_HOT_TEAMS_MAX_LEVEL=1\n",
      "   KMP_HOT_TEAMS_MODE=0\n",
      "   KMP_INIT_AT_FORK=true\n",
      "   KMP_LIBRARY=throughput\n",
      "   KMP_LOCK_KIND=queuing\n",
      "   KMP_MALLOC_POOL_INCR=1M\n",
      "   KMP_NUM_LOCKS_IN_BLOCK=1\n",
      "   KMP_PLAIN_BARRIER='2,2'\n",
      "   KMP_PLAIN_BARRIER_PATTERN='hyper,hyper'\n",
      "   KMP_REDUCTION_BARRIER='1,1'\n",
      "   KMP_REDUCTION_BARRIER_PATTERN='hyper,hyper'\n",
      "   KMP_SCHEDULE='static,balanced;guided,iterative'\n",
      "   KMP_SETTINGS=true\n",
      "   KMP_SPIN_BACKOFF_PARAMS='4096,100'\n",
      "   KMP_STACKOFFSET=64\n",
      "   KMP_STACKPAD=0\n",
      "   KMP_STACKSIZE=8M\n",
      "   KMP_STORAGE_MAP=false\n",
      "   KMP_TASKING=2\n",
      "   KMP_TASKLOOP_MIN_TASKS=0\n",
      "   KMP_TASK_STEALING_CONSTRAINT=1\n",
      "   KMP_TEAMS_THREAD_LIMIT=4\n",
      "   KMP_TOPOLOGY_METHOD=all\n",
      "   KMP_USE_YIELD=1\n",
      "   KMP_VERSION=false\n",
      "   KMP_WARNINGS=false\n",
      "   OMP_AFFINITY_FORMAT='OMP: pid %P tid %i thread %n bound to OS proc set {%A}'\n",
      "   OMP_ALLOCATOR=omp_default_mem_alloc\n",
      "   OMP_CANCELLATION=false\n",
      "   OMP_DEFAULT_DEVICE=0\n",
      "   OMP_DISPLAY_AFFINITY=false\n",
      "   OMP_DISPLAY_ENV=false\n",
      "   OMP_DYNAMIC=false\n",
      "   OMP_MAX_ACTIVE_LEVELS=1\n",
      "   OMP_MAX_TASK_PRIORITY=0\n",
      "   OMP_NESTED: deprecated; max-active-levels-var=1\n",
      "   OMP_NUM_THREADS: value is not defined\n",
      "   OMP_PLACES: value is not defined\n",
      "   OMP_PROC_BIND='intel'\n",
      "   OMP_SCHEDULE='static'\n",
      "   OMP_STACKSIZE=8M\n",
      "   OMP_TARGET_OFFLOAD=DEFAULT\n",
      "   OMP_THREAD_LIMIT=2147483647\n",
      "   OMP_WAIT_POLICY=PASSIVE\n",
      "   KMP_AFFINITY='verbose,warnings,respect,granularity=fine,compact,1,0'\n",
      "\n",
      "2021-11-18 16:31:22.520620: I tensorflow/core/common_runtime/process_util.cc:146] Creating new thread pool with default inter op setting: 2. Tune using inter_op_parallelism_threads for best performance.\n",
      "2021-11-18 16:31:22.938050: I tensorflow/compiler/mlir/mlir_graph_optimization_pass.cc:185] None of the MLIR Optimization Passes are enabled (registered 2)\n"
     ]
    },
    {
     "name": "stdout",
     "output_type": "stream",
     "text": [
      "Epoch 1/100\n",
      "100/100 [==============================] - 2s 2ms/step - loss: 0.0021\n",
      "Epoch 2/100\n",
      "100/100 [==============================] - 0s 2ms/step - loss: 1.7513e-04\n",
      "Epoch 3/100\n",
      "100/100 [==============================] - 0s 2ms/step - loss: 1.4567e-04\n",
      "Epoch 4/100\n",
      "100/100 [==============================] - 0s 2ms/step - loss: 1.4458e-04\n",
      "Epoch 5/100\n",
      "100/100 [==============================] - 0s 2ms/step - loss: 1.3165e-04\n",
      "Epoch 6/100\n",
      "100/100 [==============================] - 0s 2ms/step - loss: 1.0298e-04\n",
      "Epoch 7/100\n",
      "100/100 [==============================] - 0s 2ms/step - loss: 9.8226e-05\n",
      "Epoch 8/100\n",
      "100/100 [==============================] - 0s 2ms/step - loss: 9.2750e-05\n",
      "Epoch 9/100\n",
      "100/100 [==============================] - 0s 2ms/step - loss: 9.5567e-05\n",
      "Epoch 10/100\n",
      "100/100 [==============================] - 0s 2ms/step - loss: 8.7006e-05\n",
      "Epoch 11/100\n",
      "100/100 [==============================] - 0s 2ms/step - loss: 7.9829e-05\n",
      "Epoch 12/100\n",
      "100/100 [==============================] - 0s 2ms/step - loss: 8.6169e-05\n",
      "Epoch 13/100\n",
      "100/100 [==============================] - 0s 2ms/step - loss: 8.2873e-05\n",
      "Epoch 14/100\n",
      "100/100 [==============================] - 0s 2ms/step - loss: 7.6958e-05\n",
      "Epoch 15/100\n",
      "100/100 [==============================] - 0s 2ms/step - loss: 7.2540e-05\n",
      "Epoch 16/100\n",
      "100/100 [==============================] - 0s 2ms/step - loss: 6.6769e-05\n",
      "Epoch 17/100\n",
      "100/100 [==============================] - 0s 2ms/step - loss: 7.8927e-05\n",
      "Epoch 18/100\n",
      "100/100 [==============================] - 0s 2ms/step - loss: 7.1360e-05\n",
      "Epoch 19/100\n",
      "100/100 [==============================] - 0s 2ms/step - loss: 6.8972e-05\n",
      "Epoch 20/100\n",
      "100/100 [==============================] - 0s 2ms/step - loss: 6.8786e-05\n",
      "Epoch 21/100\n",
      "100/100 [==============================] - 0s 2ms/step - loss: 6.4654e-05\n",
      "Epoch 22/100\n",
      "100/100 [==============================] - 0s 2ms/step - loss: 7.2928e-05\n",
      "Epoch 23/100\n",
      "100/100 [==============================] - 0s 2ms/step - loss: 7.3142e-05\n",
      "Epoch 24/100\n",
      "100/100 [==============================] - 0s 2ms/step - loss: 6.9661e-05\n",
      "Epoch 25/100\n",
      "100/100 [==============================] - 0s 2ms/step - loss: 6.5817e-05\n",
      "Epoch 26/100\n",
      "100/100 [==============================] - 0s 2ms/step - loss: 6.7573e-05\n",
      "Epoch 27/100\n",
      "100/100 [==============================] - 0s 2ms/step - loss: 6.4901e-05\n",
      "Epoch 28/100\n",
      "100/100 [==============================] - 0s 2ms/step - loss: 6.6612e-05\n",
      "Epoch 29/100\n",
      "100/100 [==============================] - 0s 2ms/step - loss: 6.3849e-05\n",
      "Epoch 30/100\n",
      "100/100 [==============================] - 0s 2ms/step - loss: 6.6272e-05\n",
      "Epoch 31/100\n",
      "100/100 [==============================] - 0s 2ms/step - loss: 6.1819e-05\n",
      "Epoch 32/100\n",
      "100/100 [==============================] - 0s 2ms/step - loss: 6.4212e-05\n",
      "Epoch 33/100\n",
      "100/100 [==============================] - 0s 2ms/step - loss: 6.1199e-05\n",
      "Epoch 34/100\n",
      "100/100 [==============================] - 0s 2ms/step - loss: 6.5122e-05\n",
      "Epoch 35/100\n",
      "100/100 [==============================] - 0s 2ms/step - loss: 6.6825e-05\n",
      "Epoch 36/100\n",
      "100/100 [==============================] - 0s 2ms/step - loss: 6.1597e-05\n",
      "Epoch 37/100\n",
      "100/100 [==============================] - 0s 2ms/step - loss: 6.4694e-05\n",
      "Epoch 38/100\n",
      "100/100 [==============================] - 0s 2ms/step - loss: 7.0850e-05\n",
      "Epoch 39/100\n",
      "100/100 [==============================] - 0s 2ms/step - loss: 6.4093e-05\n",
      "Epoch 40/100\n",
      "100/100 [==============================] - 0s 2ms/step - loss: 7.0844e-05\n",
      "Epoch 41/100\n",
      "100/100 [==============================] - 0s 2ms/step - loss: 6.1666e-05\n",
      "Epoch 42/100\n",
      "100/100 [==============================] - 0s 2ms/step - loss: 6.8770e-05\n",
      "Epoch 43/100\n",
      "100/100 [==============================] - 0s 2ms/step - loss: 6.3428e-05\n",
      "Epoch 44/100\n",
      "100/100 [==============================] - 0s 2ms/step - loss: 6.6805e-05\n",
      "Epoch 45/100\n",
      "100/100 [==============================] - 0s 2ms/step - loss: 6.5560e-05\n",
      "Epoch 46/100\n",
      "100/100 [==============================] - 0s 2ms/step - loss: 6.6206e-05\n",
      "Epoch 47/100\n",
      "100/100 [==============================] - 0s 2ms/step - loss: 6.6443e-05\n",
      "Epoch 48/100\n",
      "100/100 [==============================] - 0s 2ms/step - loss: 6.7094e-05\n",
      "Epoch 49/100\n",
      "100/100 [==============================] - 0s 2ms/step - loss: 6.2695e-05\n",
      "Epoch 50/100\n",
      "100/100 [==============================] - 0s 2ms/step - loss: 6.3191e-05\n",
      "Epoch 51/100\n",
      "100/100 [==============================] - 0s 2ms/step - loss: 6.9617e-05\n",
      "Epoch 52/100\n",
      "100/100 [==============================] - 0s 2ms/step - loss: 6.5511e-05\n",
      "Epoch 53/100\n",
      "100/100 [==============================] - 0s 2ms/step - loss: 5.7517e-05\n",
      "Epoch 54/100\n",
      "100/100 [==============================] - 0s 2ms/step - loss: 6.4879e-05\n",
      "Epoch 55/100\n",
      "100/100 [==============================] - 0s 2ms/step - loss: 6.0175e-05\n",
      "Epoch 56/100\n",
      "100/100 [==============================] - 0s 2ms/step - loss: 6.8104e-05\n",
      "Epoch 57/100\n",
      "100/100 [==============================] - 0s 2ms/step - loss: 6.0931e-05\n",
      "Epoch 58/100\n",
      "100/100 [==============================] - 0s 2ms/step - loss: 6.3958e-05\n",
      "Epoch 59/100\n",
      "100/100 [==============================] - 0s 2ms/step - loss: 6.0200e-05\n",
      "Epoch 60/100\n",
      "100/100 [==============================] - 0s 2ms/step - loss: 6.3880e-05\n",
      "Epoch 61/100\n",
      "100/100 [==============================] - 0s 2ms/step - loss: 5.8533e-05\n",
      "Epoch 62/100\n",
      "100/100 [==============================] - 0s 2ms/step - loss: 6.3114e-05\n",
      "Epoch 63/100\n",
      "100/100 [==============================] - 0s 2ms/step - loss: 6.6147e-05\n",
      "Epoch 64/100\n",
      "100/100 [==============================] - 0s 2ms/step - loss: 6.7203e-05\n",
      "Epoch 65/100\n",
      "100/100 [==============================] - 0s 2ms/step - loss: 5.6885e-05\n",
      "Epoch 66/100\n",
      "100/100 [==============================] - 0s 2ms/step - loss: 6.1210e-05\n",
      "Epoch 67/100\n",
      "100/100 [==============================] - 0s 2ms/step - loss: 7.1710e-05\n",
      "Epoch 68/100\n",
      "100/100 [==============================] - 0s 2ms/step - loss: 6.9610e-05\n",
      "Epoch 69/100\n",
      "100/100 [==============================] - 0s 2ms/step - loss: 6.2804e-05\n",
      "Epoch 70/100\n",
      "100/100 [==============================] - 0s 2ms/step - loss: 7.0591e-05\n",
      "Epoch 71/100\n",
      "100/100 [==============================] - 0s 2ms/step - loss: 6.5475e-05\n",
      "Epoch 72/100\n",
      "100/100 [==============================] - 0s 2ms/step - loss: 6.5277e-05\n",
      "Epoch 73/100\n",
      "100/100 [==============================] - 0s 2ms/step - loss: 5.8587e-05\n",
      "Epoch 74/100\n",
      "100/100 [==============================] - 0s 2ms/step - loss: 6.9788e-05\n",
      "Epoch 75/100\n",
      "100/100 [==============================] - 0s 2ms/step - loss: 6.3780e-05\n",
      "Epoch 76/100\n",
      "100/100 [==============================] - 0s 2ms/step - loss: 6.6240e-05\n",
      "Epoch 77/100\n",
      "100/100 [==============================] - 0s 2ms/step - loss: 6.1216e-05\n",
      "Epoch 78/100\n",
      "100/100 [==============================] - 0s 2ms/step - loss: 6.5158e-05\n",
      "Epoch 79/100\n",
      "100/100 [==============================] - 0s 2ms/step - loss: 6.4793e-05\n",
      "Epoch 80/100\n",
      "100/100 [==============================] - 0s 2ms/step - loss: 6.6928e-05\n",
      "Epoch 81/100\n",
      "100/100 [==============================] - 0s 2ms/step - loss: 7.0285e-05\n",
      "Epoch 82/100\n",
      "100/100 [==============================] - 0s 2ms/step - loss: 6.3087e-05\n",
      "Epoch 83/100\n",
      "100/100 [==============================] - 0s 2ms/step - loss: 6.8477e-05\n",
      "Epoch 84/100\n",
      "100/100 [==============================] - 0s 2ms/step - loss: 6.1346e-05\n",
      "Epoch 85/100\n",
      "100/100 [==============================] - 0s 2ms/step - loss: 6.1839e-05\n",
      "Epoch 86/100\n",
      "100/100 [==============================] - 0s 2ms/step - loss: 6.2002e-05\n",
      "Epoch 87/100\n",
      "100/100 [==============================] - 0s 2ms/step - loss: 6.0194e-05\n",
      "Epoch 88/100\n",
      "100/100 [==============================] - 0s 2ms/step - loss: 5.8431e-05\n",
      "Epoch 89/100\n",
      "100/100 [==============================] - 0s 2ms/step - loss: 6.0610e-05\n",
      "Epoch 90/100\n",
      "100/100 [==============================] - 0s 2ms/step - loss: 6.5779e-05\n",
      "Epoch 91/100\n",
      "100/100 [==============================] - 0s 2ms/step - loss: 5.9990e-05\n",
      "Epoch 92/100\n",
      "100/100 [==============================] - 0s 2ms/step - loss: 6.9477e-05\n",
      "Epoch 93/100\n",
      "100/100 [==============================] - 0s 2ms/step - loss: 6.4344e-05\n",
      "Epoch 94/100\n",
      "100/100 [==============================] - 0s 2ms/step - loss: 5.8382e-05\n",
      "Epoch 95/100\n",
      "100/100 [==============================] - 0s 2ms/step - loss: 6.1290e-05\n",
      "Epoch 96/100\n",
      "100/100 [==============================] - 0s 2ms/step - loss: 7.0094e-05\n",
      "Epoch 97/100\n",
      "100/100 [==============================] - 0s 2ms/step - loss: 6.1751e-05\n",
      "Epoch 98/100\n",
      "100/100 [==============================] - 0s 2ms/step - loss: 6.2343e-05\n",
      "Epoch 99/100\n",
      "100/100 [==============================] - 0s 2ms/step - loss: 6.1125e-05\n",
      "Epoch 100/100\n",
      "100/100 [==============================] - 0s 2ms/step - loss: 6.2147e-05\n"
     ]
    },
    {
     "data": {
      "text/plain": [
       "<keras.callbacks.History at 0x7f85bf1dded0>"
      ]
     },
     "execution_count": 33,
     "metadata": {},
     "output_type": "execute_result"
    }
   ],
   "source": [
    "from keras.layers import Dropout\n",
    "\n",
    "model = Sequential()\n",
    "model.add(LSTM(10, input_shape = (1, time_stemp)))\n",
    "model.add(Dropout(0.1))\n",
    "model.add(Dense(1))\n",
    "model.compile(loss = \"mean_squared_error\",optimizer=\"adam\")\n",
    "model.fit(trainX, trainY, epochs=100, batch_size=32)"
   ]
  },
  {
   "cell_type": "markdown",
   "id": "cdf889bc",
   "metadata": {
    "execution": {
     "iopub.execute_input": "2021-11-13T20:45:32.219993Z",
     "iopub.status.busy": "2021-11-13T20:45:32.219101Z",
     "iopub.status.idle": "2021-11-13T20:45:32.225012Z",
     "shell.execute_reply": "2021-11-13T20:45:32.224123Z",
     "shell.execute_reply.started": "2021-11-13T20:45:32.21994Z"
    },
    "papermill": {
     "duration": 0.201933,
     "end_time": "2021-11-18T16:31:43.361088",
     "exception": false,
     "start_time": "2021-11-18T16:31:43.159155",
     "status": "completed"
    },
    "tags": []
   },
   "source": [
    "## LSTM Prediction and Visualization"
   ]
  },
  {
   "cell_type": "code",
   "execution_count": 34,
   "id": "5d73cb15",
   "metadata": {
    "execution": {
     "iopub.execute_input": "2021-11-18T16:31:43.762348Z",
     "iopub.status.busy": "2021-11-18T16:31:43.761680Z",
     "iopub.status.idle": "2021-11-18T16:31:44.354705Z",
     "shell.execute_reply": "2021-11-18T16:31:44.355271Z",
     "shell.execute_reply.started": "2021-11-18T16:25:25.512843Z"
    },
    "papermill": {
     "duration": 0.795594,
     "end_time": "2021-11-18T16:31:44.355449",
     "exception": false,
     "start_time": "2021-11-18T16:31:43.559855",
     "status": "completed"
    },
    "tags": []
   },
   "outputs": [],
   "source": [
    "trainPredict = model.predict(trainX)\n",
    "testPredict = model.predict(testX)\n",
    "\n",
    "trainPredict = scaler.inverse_transform(trainPredict)\n",
    "trainY = scaler.inverse_transform([trainY])\n",
    "testPredict = scaler.inverse_transform(testPredict)\n",
    "testY = scaler.inverse_transform([testY])"
   ]
  },
  {
   "cell_type": "code",
   "execution_count": 35,
   "id": "3bc9b832",
   "metadata": {
    "execution": {
     "iopub.execute_input": "2021-11-18T16:31:44.757878Z",
     "iopub.status.busy": "2021-11-18T16:31:44.757197Z",
     "iopub.status.idle": "2021-11-18T16:31:45.004675Z",
     "shell.execute_reply": "2021-11-18T16:31:45.005226Z",
     "shell.execute_reply.started": "2021-11-18T16:25:26.138336Z"
    },
    "papermill": {
     "duration": 0.452439,
     "end_time": "2021-11-18T16:31:45.005402",
     "exception": false,
     "start_time": "2021-11-18T16:31:44.552963",
     "status": "completed"
    },
    "tags": []
   },
   "outputs": [
    {
     "data": {
      "image/png": "[encoded data removed]",
      "text/plain": [
       "<Figure size 900x600 with 1 Axes>"
      ]
     },
     "metadata": {},
     "output_type": "display_data"
    }
   ],
   "source": [
    "trainPredictPlot = np.empty_like(dataset)\n",
    "trainPredictPlot[:, :] = np.nan\n",
    "trainPredictPlot[time_stemp:len(trainPredict) + time_stemp, :] = trainPredict\n",
    "\n",
    "testPredictPlot = np.empty_like(dataset)\n",
    "testPredictPlot[:, :] = np.nan\n",
    "testPredictPlot[len(trainPredict) + (time_stemp * 2) + 1:len(dataset) - 1, :] = testPredict\n",
    "\n",
    "plt.figure(figsize=(12,8), dpi=75, facecolor =\"w\", edgecolor=\"k\")\n",
    "plt.plot(data.index[3000:3200],scaler.inverse_transform(dataset[3000:3200]),color =\"b\", label=\"Real Price\")\n",
    "plt.plot(data.index[3000:3200],trainPredictPlot[3000:3200], color =\"g\", label=\"train predicted result\")\n",
    "plt.xlabel(\"Time\")\n",
    "plt.ylabel(\"Close Values\")\n",
    "plt.legend()\n",
    "plt.show()"
   ]
  },
  {
   "cell_type": "code",
   "execution_count": 36,
   "id": "8e028cc5",
   "metadata": {
    "execution": {
     "iopub.execute_input": "2021-11-18T16:31:45.454517Z",
     "iopub.status.busy": "2021-11-18T16:31:45.443111Z",
     "iopub.status.idle": "2021-11-18T16:31:45.720159Z",
     "shell.execute_reply": "2021-11-18T16:31:45.721005Z",
     "shell.execute_reply.started": "2021-11-18T16:25:26.426178Z"
    },
    "papermill": {
     "duration": 0.508486,
     "end_time": "2021-11-18T16:31:45.721242",
     "exception": false,
     "start_time": "2021-11-18T16:31:45.212756",
     "status": "completed"
    },
    "tags": []
   },
   "outputs": [
    {
     "data": {
      "image/png": "[encoded data removed]",
      "text/plain": [
       "<Figure size 900x600 with 1 Axes>"
      ]
     },
     "metadata": {},
     "output_type": "display_data"
    }
   ],
   "source": [
    "trainPredictPlot = np.empty_like(dataset)\n",
    "trainPredictPlot[:, :] = np.nan\n",
    "trainPredictPlot[time_stemp:len(trainPredict) + time_stemp, :] = trainPredict\n",
    "\n",
    "testPredictPlot = np.empty_like(dataset)\n",
    "testPredictPlot[:, :] = np.nan\n",
    "testPredictPlot[len(trainPredict) + (time_stemp * 2) + 1:len(dataset) - 1, :] = testPredict\n",
    "\n",
    "plt.figure(figsize=(12,8), dpi=75, facecolor =\"w\", edgecolor=\"k\")\n",
    "plt.plot(data.index[3200:],scaler.inverse_transform(dataset[3200:]),color =\"b\", label=\"Real Price\")\n",
    "plt.plot(data.index[3200:],testPredictPlot[3200:], color =\"y\", label=\"test predicted result\")\n",
    "plt.xlabel(\"Time\")\n",
    "plt.ylabel(\"Close Values\")\n",
    "plt.legend()\n",
    "plt.show()"
   ]
  },
  {
   "cell_type": "markdown",
   "id": "d6260487",
   "metadata": {
    "papermill": {
     "duration": 0.225936,
     "end_time": "2021-11-18T16:31:46.173473",
     "exception": false,
     "start_time": "2021-11-18T16:31:45.947537",
     "status": "completed"
    },
    "tags": []
   },
   "source": [
    "## RNN Model"
   ]
  },
  {
   "cell_type": "code",
   "execution_count": 37,
   "id": "958ed7a0",
   "metadata": {
    "execution": {
     "iopub.execute_input": "2021-11-18T16:31:46.598703Z",
     "iopub.status.busy": "2021-11-18T16:31:46.598091Z",
     "iopub.status.idle": "2021-11-18T16:31:46.600224Z",
     "shell.execute_reply": "2021-11-18T16:31:46.600880Z",
     "shell.execute_reply.started": "2021-11-18T16:25:26.719942Z"
    },
    "papermill": {
     "duration": 0.215704,
     "end_time": "2021-11-18T16:31:46.601043",
     "exception": false,
     "start_time": "2021-11-18T16:31:46.385339",
     "status": "completed"
    },
    "tags": []
   },
   "outputs": [],
   "source": [
    "from keras.models import Sequential\n",
    "from keras.layers import Dense\n",
    "from keras.layers import SimpleRNN\n",
    "from keras.layers import Dropout"
   ]
  },
  {
   "cell_type": "code",
   "execution_count": 38,
   "id": "2cd1339b",
   "metadata": {
    "execution": {
     "iopub.execute_input": "2021-11-18T16:31:47.016123Z",
     "iopub.status.busy": "2021-11-18T16:31:47.014584Z",
     "iopub.status.idle": "2021-11-18T16:31:47.020221Z",
     "shell.execute_reply": "2021-11-18T16:31:47.020831Z",
     "shell.execute_reply.started": "2021-11-18T16:25:26.728438Z"
    },
    "papermill": {
     "duration": 0.213613,
     "end_time": "2021-11-18T16:31:47.020994",
     "exception": false,
     "start_time": "2021-11-18T16:31:46.807381",
     "status": "completed"
    },
    "tags": []
   },
   "outputs": [
    {
     "data": {
      "text/plain": [
       "(3376, 1)"
      ]
     },
     "execution_count": 38,
     "metadata": {},
     "output_type": "execute_result"
    }
   ],
   "source": [
    "dataset = data.values\n",
    "dataset = dataset.reshape(-1,1)\n",
    "dataset = dataset.astype(\"float32\")\n",
    "dataset.shape"
   ]
  },
  {
   "cell_type": "code",
   "execution_count": 39,
   "id": "bcc9875d",
   "metadata": {
    "execution": {
     "iopub.execute_input": "2021-11-18T16:31:47.435301Z",
     "iopub.status.busy": "2021-11-18T16:31:47.434731Z",
     "iopub.status.idle": "2021-11-18T16:31:47.439023Z",
     "shell.execute_reply": "2021-11-18T16:31:47.439574Z",
     "shell.execute_reply.started": "2021-11-18T16:25:26.745937Z"
    },
    "papermill": {
     "duration": 0.212635,
     "end_time": "2021-11-18T16:31:47.439731",
     "exception": false,
     "start_time": "2021-11-18T16:31:47.227096",
     "status": "completed"
    },
    "tags": []
   },
   "outputs": [],
   "source": [
    "scaler = MinMaxScaler(feature_range=(0,1))\n",
    "dataset = scaler.fit_transform(dataset)\n",
    "train = dataset[0:train_size, :]\n",
    "test = dataset[train_size:len(dataset), :]\n"
   ]
  },
  {
   "cell_type": "markdown",
   "id": "06ca2340",
   "metadata": {
    "papermill": {
     "duration": 0.210863,
     "end_time": "2021-11-18T16:31:47.857233",
     "exception": false,
     "start_time": "2021-11-18T16:31:47.646370",
     "status": "completed"
    },
    "tags": []
   },
   "source": [
    "## RNN Train-Test Split"
   ]
  },
  {
   "cell_type": "code",
   "execution_count": 40,
   "id": "9d76b242",
   "metadata": {
    "execution": {
     "iopub.execute_input": "2021-11-18T16:31:48.281102Z",
     "iopub.status.busy": "2021-11-18T16:31:48.280435Z",
     "iopub.status.idle": "2021-11-18T16:31:48.293094Z",
     "shell.execute_reply": "2021-11-18T16:31:48.293649Z",
     "shell.execute_reply.started": "2021-11-18T16:25:26.760438Z"
    },
    "papermill": {
     "duration": 0.225313,
     "end_time": "2021-11-18T16:31:48.293839",
     "exception": false,
     "start_time": "2021-11-18T16:31:48.068526",
     "status": "completed"
    },
    "tags": []
   },
   "outputs": [],
   "source": [
    "time_stemp = 10\n",
    "dataX = []\n",
    "dataY = []\n",
    "for i in range(len(train) - time_stemp - 1):\n",
    "    a = train[i:(i + time_stemp), 0]\n",
    "    dataX.append(a)\n",
    "    dataY.append(train[i + time_stemp, 0])\n",
    "trainX = np.array(dataX)\n",
    "trainY = np.array(dataY)"
   ]
  },
  {
   "cell_type": "code",
   "execution_count": 41,
   "id": "da852e5c",
   "metadata": {
    "execution": {
     "iopub.execute_input": "2021-11-18T16:31:48.712021Z",
     "iopub.status.busy": "2021-11-18T16:31:48.711378Z",
     "iopub.status.idle": "2021-11-18T16:31:48.717508Z",
     "shell.execute_reply": "2021-11-18T16:31:48.717966Z",
     "shell.execute_reply.started": "2021-11-18T16:25:26.782928Z"
    },
    "papermill": {
     "duration": 0.217083,
     "end_time": "2021-11-18T16:31:48.718116",
     "exception": false,
     "start_time": "2021-11-18T16:31:48.501033",
     "status": "completed"
    },
    "tags": []
   },
   "outputs": [],
   "source": [
    "dataX = []\n",
    "dataY = []\n",
    "for i in range(len(test) - time_stemp -1):\n",
    "    a = test[i:(i + time_stemp), 0]\n",
    "    dataX.append(a)\n",
    "    dataY.append(test[i + time_stemp, 0])\n",
    "testX = np.array(dataX)\n",
    "testY = np.array(dataY)"
   ]
  },
  {
   "cell_type": "code",
   "execution_count": 42,
   "id": "e9c440f2",
   "metadata": {
    "execution": {
     "iopub.execute_input": "2021-11-18T16:31:49.130121Z",
     "iopub.status.busy": "2021-11-18T16:31:49.129463Z",
     "iopub.status.idle": "2021-11-18T16:31:49.133545Z",
     "shell.execute_reply": "2021-11-18T16:31:49.134130Z",
     "shell.execute_reply.started": "2021-11-18T16:25:26.798871Z"
    },
    "papermill": {
     "duration": 0.212891,
     "end_time": "2021-11-18T16:31:49.134308",
     "exception": false,
     "start_time": "2021-11-18T16:31:48.921417",
     "status": "completed"
    },
    "tags": []
   },
   "outputs": [],
   "source": [
    "trainX = np.reshape(trainX, (trainX.shape[0], trainX.shape[1],1))\n",
    "testX = np.reshape(testX, (testX.shape[0],testX.shape[1],1))"
   ]
  },
  {
   "cell_type": "code",
   "execution_count": 43,
   "id": "7416e830",
   "metadata": {
    "execution": {
     "iopub.execute_input": "2021-11-18T16:31:49.575676Z",
     "iopub.status.busy": "2021-11-18T16:31:49.575055Z",
     "iopub.status.idle": "2021-11-18T16:35:21.195798Z",
     "shell.execute_reply": "2021-11-18T16:35:21.196272Z",
     "shell.execute_reply.started": "2021-11-18T16:25:26.814058Z"
    },
    "papermill": {
     "duration": 211.842525,
     "end_time": "2021-11-18T16:35:21.196461",
     "exception": false,
     "start_time": "2021-11-18T16:31:49.353936",
     "status": "completed"
    },
    "tags": []
   },
   "outputs": [
    {
     "name": "stdout",
     "output_type": "stream",
     "text": [
      "Epoch 1/100\n",
      "100/100 [==============================] - 5s 20ms/step - loss: 0.0403\n",
      "Epoch 2/100\n",
      "100/100 [==============================] - 2s 19ms/step - loss: 0.0070\n",
      "Epoch 3/100\n",
      "100/100 [==============================] - 2s 20ms/step - loss: 0.0038\n",
      "Epoch 4/100\n",
      "100/100 [==============================] - 2s 22ms/step - loss: 0.0024\n",
      "Epoch 5/100\n",
      "100/100 [==============================] - 2s 22ms/step - loss: 0.0019\n",
      "Epoch 6/100\n",
      "100/100 [==============================] - 2s 20ms/step - loss: 0.0013\n",
      "Epoch 7/100\n",
      "100/100 [==============================] - 2s 20ms/step - loss: 0.0012\n",
      "Epoch 8/100\n",
      "100/100 [==============================] - 2s 20ms/step - loss: 0.0011\n",
      "Epoch 9/100\n",
      "100/100 [==============================] - 2s 19ms/step - loss: 8.6524e-04\n",
      "Epoch 10/100\n",
      "100/100 [==============================] - 2s 21ms/step - loss: 7.5652e-04\n",
      "Epoch 11/100\n",
      "100/100 [==============================] - 2s 21ms/step - loss: 7.0466e-04\n",
      "Epoch 12/100\n",
      "100/100 [==============================] - 2s 20ms/step - loss: 6.3221e-04\n",
      "Epoch 13/100\n",
      "100/100 [==============================] - 3s 27ms/step - loss: 6.0572e-04\n",
      "Epoch 14/100\n",
      "100/100 [==============================] - 2s 21ms/step - loss: 5.2954e-04\n",
      "Epoch 15/100\n",
      "100/100 [==============================] - 2s 20ms/step - loss: 5.2638e-04\n",
      "Epoch 16/100\n",
      "100/100 [==============================] - 2s 20ms/step - loss: 4.5379e-04\n",
      "Epoch 17/100\n",
      "100/100 [==============================] - 2s 20ms/step - loss: 4.4517e-04\n",
      "Epoch 18/100\n",
      "100/100 [==============================] - 2s 20ms/step - loss: 3.9192e-04\n",
      "Epoch 19/100\n",
      "100/100 [==============================] - 2s 20ms/step - loss: 3.6168e-04\n",
      "Epoch 20/100\n",
      "100/100 [==============================] - 2s 21ms/step - loss: 3.6476e-04\n",
      "Epoch 21/100\n",
      "100/100 [==============================] - 2s 20ms/step - loss: 3.5890e-04\n",
      "Epoch 22/100\n",
      "100/100 [==============================] - 2s 20ms/step - loss: 3.5955e-04\n",
      "Epoch 23/100\n",
      "100/100 [==============================] - 2s 20ms/step - loss: 3.3359e-04\n",
      "Epoch 24/100\n",
      "100/100 [==============================] - 2s 20ms/step - loss: 3.2357e-04\n",
      "Epoch 25/100\n",
      "100/100 [==============================] - 2s 22ms/step - loss: 2.9306e-04\n",
      "Epoch 26/100\n",
      "100/100 [==============================] - 2s 21ms/step - loss: 2.7163e-04\n",
      "Epoch 27/100\n",
      "100/100 [==============================] - 2s 20ms/step - loss: 2.4463e-04\n",
      "Epoch 28/100\n",
      "100/100 [==============================] - 2s 20ms/step - loss: 2.7497e-04\n",
      "Epoch 29/100\n",
      "100/100 [==============================] - 3s 28ms/step - loss: 2.6168e-04\n",
      "Epoch 30/100\n",
      "100/100 [==============================] - 2s 20ms/step - loss: 2.2186e-04\n",
      "Epoch 31/100\n",
      "100/100 [==============================] - 2s 21ms/step - loss: 2.1831e-04\n",
      "Epoch 32/100\n",
      "100/100 [==============================] - 2s 20ms/step - loss: 2.2100e-04\n",
      "Epoch 33/100\n",
      "100/100 [==============================] - 2s 20ms/step - loss: 2.0301e-04\n",
      "Epoch 34/100\n",
      "100/100 [==============================] - 2s 20ms/step - loss: 2.1923e-04\n",
      "Epoch 35/100\n",
      "100/100 [==============================] - 2s 20ms/step - loss: 1.9933e-04\n",
      "Epoch 36/100\n",
      "100/100 [==============================] - 2s 22ms/step - loss: 2.3087e-04\n",
      "Epoch 37/100\n",
      "100/100 [==============================] - 2s 22ms/step - loss: 1.8276e-04\n",
      "Epoch 38/100\n",
      "100/100 [==============================] - 2s 20ms/step - loss: 1.7742e-04\n",
      "Epoch 39/100\n",
      "100/100 [==============================] - 2s 21ms/step - loss: 1.9165e-04\n",
      "Epoch 40/100\n",
      "100/100 [==============================] - 2s 21ms/step - loss: 1.5455e-04\n",
      "Epoch 41/100\n",
      "100/100 [==============================] - 2s 21ms/step - loss: 1.7594e-04\n",
      "Epoch 42/100\n",
      "100/100 [==============================] - 2s 20ms/step - loss: 1.6350e-04\n",
      "Epoch 43/100\n",
      "100/100 [==============================] - 2s 20ms/step - loss: 1.4628e-04\n",
      "Epoch 44/100\n",
      "100/100 [==============================] - 2s 21ms/step - loss: 1.3704e-04\n",
      "Epoch 45/100\n",
      "100/100 [==============================] - 3s 25ms/step - loss: 1.5462e-04\n",
      "Epoch 46/100\n",
      "100/100 [==============================] - 2s 21ms/step - loss: 1.6504e-04\n",
      "Epoch 47/100\n",
      "100/100 [==============================] - 2s 21ms/step - loss: 1.6006e-04\n",
      "Epoch 48/100\n",
      "100/100 [==============================] - 2s 20ms/step - loss: 1.3307e-04\n",
      "Epoch 49/100\n",
      "100/100 [==============================] - 2s 19ms/step - loss: 1.4708e-04\n",
      "Epoch 50/100\n",
      "100/100 [==============================] - 2s 20ms/step - loss: 1.3457e-04\n",
      "Epoch 51/100\n",
      "100/100 [==============================] - 2s 20ms/step - loss: 1.3115e-04\n",
      "Epoch 52/100\n",
      "100/100 [==============================] - 2s 21ms/step - loss: 1.3367e-04\n",
      "Epoch 53/100\n",
      "100/100 [==============================] - 2s 20ms/step - loss: 1.2215e-04\n",
      "Epoch 54/100\n",
      "100/100 [==============================] - 2s 20ms/step - loss: 1.1627e-04\n",
      "Epoch 55/100\n",
      "100/100 [==============================] - 2s 20ms/step - loss: 1.2745e-04\n",
      "Epoch 56/100\n",
      "100/100 [==============================] - 2s 19ms/step - loss: 1.1331e-04\n",
      "Epoch 57/100\n",
      "100/100 [==============================] - 2s 20ms/step - loss: 1.2006e-04\n",
      "Epoch 58/100\n",
      "100/100 [==============================] - 2s 20ms/step - loss: 1.1865e-04\n",
      "Epoch 59/100\n",
      "100/100 [==============================] - 2s 21ms/step - loss: 1.0607e-04\n",
      "Epoch 60/100\n",
      "100/100 [==============================] - 2s 23ms/step - loss: 1.1710e-04\n",
      "Epoch 61/100\n",
      "100/100 [==============================] - 2s 24ms/step - loss: 1.1371e-04\n",
      "Epoch 62/100\n",
      "100/100 [==============================] - 2s 21ms/step - loss: 1.1131e-04\n",
      "Epoch 63/100\n",
      "100/100 [==============================] - 2s 20ms/step - loss: 1.0145e-04\n",
      "Epoch 64/100\n",
      "100/100 [==============================] - 2s 19ms/step - loss: 1.0692e-04\n",
      "Epoch 65/100\n",
      "100/100 [==============================] - 2s 20ms/step - loss: 1.1182e-04\n",
      "Epoch 66/100\n",
      "100/100 [==============================] - 2s 20ms/step - loss: 1.1061e-04\n",
      "Epoch 67/100\n",
      "100/100 [==============================] - 2s 21ms/step - loss: 1.0500e-04\n",
      "Epoch 68/100\n",
      "100/100 [==============================] - 2s 21ms/step - loss: 9.7914e-05\n",
      "Epoch 69/100\n",
      "100/100 [==============================] - 2s 21ms/step - loss: 9.7132e-05\n",
      "Epoch 70/100\n",
      "100/100 [==============================] - 2s 20ms/step - loss: 1.0595e-04\n",
      "Epoch 71/100\n",
      "100/100 [==============================] - 2s 20ms/step - loss: 1.0045e-04\n",
      "Epoch 72/100\n",
      "100/100 [==============================] - 2s 20ms/step - loss: 9.8684e-05\n",
      "Epoch 73/100\n",
      "100/100 [==============================] - 2s 21ms/step - loss: 1.0594e-04\n",
      "Epoch 74/100\n",
      "100/100 [==============================] - 2s 20ms/step - loss: 8.7532e-05\n",
      "Epoch 75/100\n",
      "100/100 [==============================] - 2s 22ms/step - loss: 9.3106e-05\n",
      "Epoch 76/100\n",
      "100/100 [==============================] - 2s 20ms/step - loss: 8.9082e-05\n",
      "Epoch 77/100\n",
      "100/100 [==============================] - 3s 26ms/step - loss: 8.8304e-05\n",
      "Epoch 78/100\n",
      "100/100 [==============================] - 2s 21ms/step - loss: 9.2372e-05\n",
      "Epoch 79/100\n",
      "100/100 [==============================] - 2s 20ms/step - loss: 8.6566e-05\n",
      "Epoch 80/100\n",
      "100/100 [==============================] - 2s 20ms/step - loss: 8.7751e-05\n",
      "Epoch 81/100\n",
      "100/100 [==============================] - 2s 21ms/step - loss: 8.6919e-05\n",
      "Epoch 82/100\n",
      "100/100 [==============================] - 2s 21ms/step - loss: 8.4450e-05\n",
      "Epoch 83/100\n",
      "100/100 [==============================] - 2s 21ms/step - loss: 8.4611e-05\n",
      "Epoch 84/100\n",
      "100/100 [==============================] - 2s 22ms/step - loss: 8.8798e-05\n",
      "Epoch 85/100\n",
      "100/100 [==============================] - 2s 20ms/step - loss: 8.5996e-05\n",
      "Epoch 86/100\n",
      "100/100 [==============================] - 2s 19ms/step - loss: 8.0203e-05\n",
      "Epoch 87/100\n",
      "100/100 [==============================] - 2s 19ms/step - loss: 7.6864e-05\n",
      "Epoch 88/100\n",
      "100/100 [==============================] - 2s 20ms/step - loss: 7.0533e-05\n",
      "Epoch 89/100\n",
      "100/100 [==============================] - 2s 21ms/step - loss: 7.8828e-05\n",
      "Epoch 90/100\n",
      "100/100 [==============================] - 2s 22ms/step - loss: 7.6840e-05\n",
      "Epoch 91/100\n",
      "100/100 [==============================] - 2s 23ms/step - loss: 8.2768e-05\n",
      "Epoch 92/100\n",
      "100/100 [==============================] - 3s 27ms/step - loss: 7.0654e-05\n",
      "Epoch 93/100\n",
      "100/100 [==============================] - 2s 21ms/step - loss: 7.6688e-05\n",
      "Epoch 94/100\n",
      "100/100 [==============================] - 2s 22ms/step - loss: 7.4638e-05\n",
      "Epoch 95/100\n",
      "100/100 [==============================] - 2s 21ms/step - loss: 7.6588e-05\n",
      "Epoch 96/100\n",
      "100/100 [==============================] - 2s 21ms/step - loss: 8.3658e-05\n",
      "Epoch 97/100\n",
      "100/100 [==============================] - 2s 21ms/step - loss: 7.3167e-05\n",
      "Epoch 98/100\n",
      "100/100 [==============================] - 2s 20ms/step - loss: 8.6707e-05\n",
      "Epoch 99/100\n",
      "100/100 [==============================] - 2s 21ms/step - loss: 8.2319e-05\n",
      "Epoch 100/100\n",
      "100/100 [==============================] - 2s 20ms/step - loss: 7.5474e-05\n"
     ]
    },
    {
     "data": {
      "text/plain": [
       "<keras.callbacks.History at 0x7f85bafc0dd0>"
      ]
     },
     "execution_count": 43,
     "metadata": {},
     "output_type": "execute_result"
    }
   ],
   "source": [
    "regressor = Sequential()\n",
    "\n",
    "\n",
    "regressor.add(SimpleRNN(units = 50,activation='tanh', return_sequences = True, input_shape = (trainX.shape[1],1)))\n",
    "regressor.add(Dropout(0.2))\n",
    "\n",
    "\n",
    "regressor.add(SimpleRNN(units = 50,activation='tanh', return_sequences = True))\n",
    "regressor.add(Dropout(0.2))\n",
    "\n",
    "\n",
    "regressor.add(SimpleRNN(units = 50,activation='tanh', return_sequences = True))\n",
    "regressor.add(Dropout(0.2))\n",
    "\n",
    "\n",
    "regressor.add(SimpleRNN(units = 50))\n",
    "regressor.add(Dropout(0.2))\n",
    "\n",
    "\n",
    "regressor.add(Dense(units = 1))\n",
    "\n",
    "\n",
    "regressor.compile(optimizer = 'adam', loss = 'mean_squared_error')\n",
    "\n",
    "\n",
    "regressor.fit(trainX, trainY, epochs = 100, batch_size = 32)"
   ]
  },
  {
   "cell_type": "markdown",
   "id": "9353946b",
   "metadata": {
    "execution": {
     "iopub.execute_input": "2021-11-18T15:16:41.02511Z",
     "iopub.status.busy": "2021-11-18T15:16:41.02482Z",
     "iopub.status.idle": "2021-11-18T15:16:41.029995Z",
     "shell.execute_reply": "2021-11-18T15:16:41.028735Z",
     "shell.execute_reply.started": "2021-11-18T15:16:41.025078Z"
    },
    "papermill": {
     "duration": 1.230429,
     "end_time": "2021-11-18T16:35:23.740724",
     "exception": false,
     "start_time": "2021-11-18T16:35:22.510295",
     "status": "completed"
    },
    "tags": []
   },
   "source": [
    "## RNN Prediction and Visualization"
   ]
  },
  {
   "cell_type": "code",
   "execution_count": 44,
   "id": "e4abd039",
   "metadata": {
    "execution": {
     "iopub.execute_input": "2021-11-18T16:35:26.289898Z",
     "iopub.status.busy": "2021-11-18T16:35:26.288762Z",
     "iopub.status.idle": "2021-11-18T16:35:27.930032Z",
     "shell.execute_reply": "2021-11-18T16:35:27.928950Z",
     "shell.execute_reply.started": "2021-11-18T16:29:26.591020Z"
    },
    "papermill": {
     "duration": 2.924201,
     "end_time": "2021-11-18T16:35:27.930200",
     "exception": false,
     "start_time": "2021-11-18T16:35:25.005999",
     "status": "completed"
    },
    "tags": []
   },
   "outputs": [],
   "source": [
    "trainPredict = regressor.predict(trainX)\n",
    "testPredict = regressor.predict(testX)\n",
    "\n",
    "trainPredict = scaler.inverse_transform(trainPredict)\n",
    "trainY = scaler.inverse_transform([trainY])\n",
    "testPredict = scaler.inverse_transform(testPredict)\n",
    "testY = scaler.inverse_transform([testY])"
   ]
  },
  {
   "cell_type": "code",
   "execution_count": 45,
   "id": "630d8fde",
   "metadata": {
    "execution": {
     "iopub.execute_input": "2021-11-18T16:35:30.466624Z",
     "iopub.status.busy": "2021-11-18T16:35:30.465963Z",
     "iopub.status.idle": "2021-11-18T16:35:30.743177Z",
     "shell.execute_reply": "2021-11-18T16:35:30.742668Z",
     "shell.execute_reply.started": "2021-11-18T16:29:28.295234Z"
    },
    "papermill": {
     "duration": 1.546881,
     "end_time": "2021-11-18T16:35:30.743325",
     "exception": false,
     "start_time": "2021-11-18T16:35:29.196444",
     "status": "completed"
    },
    "tags": []
   },
   "outputs": [
    {
     "data": {
      "image/png": "[encoded data removed]",
      "text/plain": [
       "<Figure size 900x600 with 1 Axes>"
      ]
     },
     "metadata": {},
     "output_type": "display_data"
    }
   ],
   "source": [
    "trainPredictPlot = np.empty_like(dataset)\n",
    "trainPredictPlot[:, :] = np.nan\n",
    "trainPredictPlot[time_stemp:len(trainPredict) + time_stemp, :] = trainPredict\n",
    "\n",
    "testPredictPlot = np.empty_like(dataset)\n",
    "testPredictPlot[:, :] = np.nan\n",
    "testPredictPlot[len(trainPredict) + (time_stemp * 2) + 1:len(dataset) - 1, :] = testPredict\n",
    "\n",
    "plt.figure(figsize=(12,8), dpi=75, facecolor =\"w\", edgecolor=\"k\")\n",
    "plt.plot(data.index[3000:3200],scaler.inverse_transform(dataset[3000:3200]),color =\"b\", label=\"Real Price\")\n",
    "plt.plot(data.index[3000:3200],trainPredictPlot[3000:3200], color =\"g\", label=\"train predicted result\")\n",
    "plt.xlabel(\"Time\")\n",
    "plt.ylabel(\"Close Values\")\n",
    "plt.legend()\n",
    "plt.show()"
   ]
  },
  {
   "cell_type": "code",
   "execution_count": 46,
   "id": "091d5284",
   "metadata": {
    "execution": {
     "iopub.execute_input": "2021-11-18T16:35:33.330593Z",
     "iopub.status.busy": "2021-11-18T16:35:33.329884Z",
     "iopub.status.idle": "2021-11-18T16:35:33.599082Z",
     "shell.execute_reply": "2021-11-18T16:35:33.598540Z",
     "shell.execute_reply.started": "2021-11-18T16:29:28.594849Z"
    },
    "papermill": {
     "duration": 1.540153,
     "end_time": "2021-11-18T16:35:33.599235",
     "exception": false,
     "start_time": "2021-11-18T16:35:32.059082",
     "status": "completed"
    },
    "tags": []
   },
   "outputs": [
    {
     "data": {
      "image/png": "[encoded data removed]",
      "text/plain": [
       "<Figure size 900x600 with 1 Axes>"
      ]
     },
     "metadata": {},
     "output_type": "display_data"
    }
   ],
   "source": [
    "trainPredictPlot = np.empty_like(dataset)\n",
    "trainPredictPlot[:, :] = np.nan\n",
    "trainPredictPlot[time_stemp:len(trainPredict) + time_stemp, :] = trainPredict\n",
    "\n",
    "testPredictPlot = np.empty_like(dataset)\n",
    "testPredictPlot[:, :] = np.nan\n",
    "testPredictPlot[len(trainPredict) + (time_stemp * 2) + 1:len(dataset) - 1, :] = testPredict\n",
    "\n",
    "plt.figure(figsize=(12,8), dpi=75, facecolor =\"w\", edgecolor=\"k\")\n",
    "plt.plot(data.index[3200:],scaler.inverse_transform(dataset[3200:]),color =\"b\", label=\"Real Price\")\n",
    "plt.plot(data.index[3200:],testPredictPlot[3200:], color =\"y\", label=\"test predicted result\")\n",
    "plt.xlabel(\"Time\")\n",
    "plt.ylabel(\"Close Values\")\n",
    "plt.legend()\n",
    "plt.show()"
   ]
  },
  {
   "cell_type": "markdown",
   "id": "7b88a250",
   "metadata": {
    "execution": {
     "iopub.execute_input": "2021-11-18T15:19:12.719998Z",
     "iopub.status.busy": "2021-11-18T15:19:12.719195Z",
     "iopub.status.idle": "2021-11-18T15:19:12.723819Z",
     "shell.execute_reply": "2021-11-18T15:19:12.722961Z",
     "shell.execute_reply.started": "2021-11-18T15:19:12.719941Z"
    },
    "papermill": {
     "duration": 1.250484,
     "end_time": "2021-11-18T16:35:36.147273",
     "exception": false,
     "start_time": "2021-11-18T16:35:34.896789",
     "status": "completed"
    },
    "tags": []
   },
   "source": [
    "## Conclusion"
   ]
  },
  {
   "cell_type": "markdown",
   "id": "2fcf3aea",
   "metadata": {
    "papermill": {
     "duration": 1.271109,
     "end_time": "2021-11-18T16:35:38.658337",
     "exception": false,
     "start_time": "2021-11-18T16:35:37.387228",
     "status": "completed"
    },
    "tags": []
   },
   "source": [
    "When results are compared as to test score, it can be seen that LSTM model has better predicton. \n"
   ]
  }
 ],
 "metadata": {
  "kernelspec": {
   "display_name": "Python 3",
   "language": "python",
   "name": "python3"
  },
  "language_info": {
   "codemirror_mode": {
    "name": "ipython",
    "version": 3
   },
   "file_extension": ".py",
   "mimetype": "text/x-python",
   "name": "python",
   "nbconvert_exporter": "python",
   "pygments_lexer": "ipython3",
   "version": "3.7.10"
  },
  "papermill": {
   "default_parameters": {},
   "duration": 298.150174,
   "end_time": "2021-11-18T16:35:43.068914",
   "environment_variables": {},
   "exception": null,
   "input_path": "__notebook__.ipynb",
   "output_path": "__notebook__.ipynb",
   "parameters": {},
   "start_time": "2021-11-18T16:30:44.918740",
   "version": "2.3.3"
  }
 },
 "nbformat": 4,
 "nbformat_minor": 5
}
